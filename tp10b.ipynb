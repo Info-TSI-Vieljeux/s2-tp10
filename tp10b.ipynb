{
 "cells": [
  {
   "cell_type": "markdown",
   "id": "f34c1034",
   "metadata": {},
   "source": [
    ">Ouvrir le notebook dans Colab en modifiant le début de son adresse dans le navigateur :<br>\n",
    "il faut remplacer **github.com** par **githubtocolab.com**.<br>\n",
    "Une fois vos réponses apportées, le notebook devra être sauvegardé dans GitHub, dans le repository du TP :<br>\n",
    "*Fichier > Enregistrer une copie dans Github*<br>\n",
    "*Info-TSI-Vieljeux/tpx-votre_nom*<br>\n",
    "\n",
    "---"
   ]
  },
  {
   "cell_type": "markdown",
   "id": "0018a59c",
   "metadata": {
    "deletable": false,
    "editable": false,
    "nbgrader": {
     "cell_type": "markdown",
     "checksum": "8c4643ff75e139f876668efebcbc9563",
     "grade": false,
     "grade_id": "cell-17696f5e45fff787",
     "locked": true,
     "schema_version": 3,
     "solution": false,
     "task": false
    }
   },
   "source": [
    "# TP 10 : les graphes (partie 2)"
   ]
  },
  {
   "cell_type": "markdown",
   "id": "35bc1c05",
   "metadata": {
    "deletable": false,
    "editable": false,
    "nbgrader": {
     "cell_type": "markdown",
     "checksum": "f3f6135f613ae9692d5004202ff13c58",
     "grade": false,
     "grade_id": "cell-4f3fe8620294b6c1",
     "locked": true,
     "schema_version": 3,
     "solution": false,
     "task": false
    }
   },
   "source": [
    "## Lien entre structures de données et graphes, exemple du tas"
   ]
  },
  {
   "cell_type": "markdown",
   "id": "b3f58b9f",
   "metadata": {
    "deletable": false,
    "editable": false,
    "nbgrader": {
     "cell_type": "markdown",
     "checksum": "273e4a7d94a5cd554b181c1ea5e9c1c2",
     "grade": false,
     "grade_id": "cell-4c5701c6ba634fed",
     "locked": true,
     "schema_version": 3,
     "solution": false,
     "task": false
    }
   },
   "source": [
    "Le **tas** (ou **file de priorité**) est une structure de données permettant d'obtenir rapidement le plus petit élément d'un ensemble. On peut se représenter un tas par un arbre binaire presque complet ordonné.<br>"
   ]
  },
  {
   "cell_type": "code",
   "execution_count": null,
   "id": "b11c5d20",
   "metadata": {
    "deletable": false,
    "editable": false,
    "nbgrader": {
     "cell_type": "code",
     "checksum": "1fdd6d35abac5493b9d3546db0fa1d7c",
     "grade": false,
     "grade_id": "cell-19189bd3ce0693f4",
     "locked": true,
     "schema_version": 3,
     "solution": false,
     "task": false
    }
   },
   "outputs": [],
   "source": [
    "from IPython.display import YouTubeVideo\n",
    "\n",
    "YouTubeVideo('JRzTS8zPwSE', width=960, height=540)"
   ]
  },
  {
   "cell_type": "markdown",
   "id": "425f6958",
   "metadata": {
    "deletable": false,
    "editable": false,
    "nbgrader": {
     "cell_type": "markdown",
     "checksum": "ee39bbdef93126f6a67be1b5c15fffd8",
     "grade": false,
     "grade_id": "cell-7b79bde9e4576507",
     "locked": true,
     "schema_version": 3,
     "solution": false,
     "task": false
    }
   },
   "source": [
    "Pour implémenter un tas, on retranscrit l'arbre binaire sous la forme d'une liste.\n",
    "En vous aidant de la vidéo ci-dessus, choisir parmi les listes suivantes celle qui peut représenter un tas :\n",
    "- a : `[3,5,8,5,13,11,9,6,12,15,18,11,12]`\n",
    "- b : `[3,5,8,5,13,7,9,6,12,15,18,11,12,10]`\n",
    "- c : `[3,5,8,5,13,11,9,6,12,15,18,11,11,10,12]`"
   ]
  },
  {
   "cell_type": "code",
   "execution_count": null,
   "id": "7c01f095",
   "metadata": {},
   "outputs": [],
   "source": [
    "# Affectez à rep5 la valeur 'a' ou 'b' ou 'c'\n",
    "rep5 = 'd'"
   ]
  },
  {
   "cell_type": "code",
   "execution_count": null,
   "id": "452787e6",
   "metadata": {
    "deletable": false,
    "editable": false,
    "nbgrader": {
     "cell_type": "code",
     "checksum": "39c66573efb4fc052e35dad7579f5ab3",
     "grade": true,
     "grade_id": "cell-63b999a7ad030c0a",
     "locked": true,
     "points": 1,
     "schema_version": 3,
     "solution": false,
     "task": false
    }
   },
   "outputs": [],
   "source": [
    "# cellule d'évaluation, ne pas modifier"
   ]
  },
  {
   "cell_type": "markdown",
   "id": "26da3893",
   "metadata": {
    "deletable": false,
    "editable": false,
    "nbgrader": {
     "cell_type": "markdown",
     "checksum": "54514e1c7d06aebda5a1d2e027838cc7",
     "grade": false,
     "grade_id": "cell-71681e6d84a6affe",
     "locked": true,
     "schema_version": 3,
     "solution": false,
     "task": false
    }
   },
   "source": [
    "Construire une fonction `plusPetitEnfant` qui retourne la position du petit enfant d'un élément dans le tas.<br>\n",
    "La fonction prend en argument le tas (représenté sous la forme d'une liste) et la position du parent.<br>\n",
    "La fonction retourne la position du plus petit enfant.<br>\n",
    "Si l'élément n'a pas d'enfant, la fonction retourne `None`.<br>\n",
    "**Attention :** les positions dans le tas vont de 1 à n (et non de 0 à n-1) où n est le nombre d'éléments dans le tas"
   ]
  },
  {
   "cell_type": "code",
   "execution_count": null,
   "id": "2968a89d",
   "metadata": {
    "deletable": false,
    "nbgrader": {
     "cell_type": "code",
     "checksum": "b20681663f515926b25be22cb62fbd09",
     "grade": false,
     "grade_id": "cell-0bda4dd3aa5b7630",
     "locked": false,
     "schema_version": 3,
     "solution": true,
     "task": false
    }
   },
   "outputs": [],
   "source": [
    "def plusPetitEnfant(tas,position) :\n",
    "    \"\"\" \n",
    "    plusPetitEnfant(tas : list, position : int) -> int ou Nonetype\n",
    "    \"\"\"\n",
    "    # VOTRE CODE"
   ]
  },
  {
   "cell_type": "code",
   "execution_count": null,
   "id": "95a38d25",
   "metadata": {
    "deletable": false,
    "editable": false,
    "nbgrader": {
     "cell_type": "code",
     "checksum": "df6d4dc3a111f8aee56374ce7a3b4842",
     "grade": true,
     "grade_id": "cell-ca860e2392fa04de",
     "locked": true,
     "points": 1,
     "schema_version": 3,
     "solution": false,
     "task": false
    }
   },
   "outputs": [],
   "source": [
    "# cellule d'évaluation, ne pas modifier"
   ]
  },
  {
   "cell_type": "code",
   "execution_count": null,
   "id": "c705a778",
   "metadata": {},
   "outputs": [],
   "source": [
    "# Pour tester\n",
    "Tas = [3,7,8,8,7,9,12,7,8,8,8,10]\n",
    "pos = 3\n",
    "print(f\"Le plus petit en enfant de l'élément en position {pos} est à la position {plusPetitEnfant(Tas,pos)} (c'est {Tas[plusPetitEnfant(Tas,pos)-1]}).\")"
   ]
  },
  {
   "cell_type": "markdown",
   "id": "4703aa71",
   "metadata": {
    "deletable": false,
    "editable": false,
    "nbgrader": {
     "cell_type": "markdown",
     "checksum": "b11f5c29c9b2c076890bdca45aa9ef98",
     "grade": false,
     "grade_id": "cell-9c829b723dc998bd",
     "locked": true,
     "schema_version": 3,
     "solution": false,
     "task": false
    }
   },
   "source": [
    "Construire les fonctions `insert` et `extractMin`. Pour cette dernière, vous utiliserez `plusPetitEnfant`.<br>\n",
    "On supposera que le tas ne contient que des entiers."
   ]
  },
  {
   "cell_type": "code",
   "execution_count": null,
   "id": "d6f54851",
   "metadata": {
    "deletable": false,
    "nbgrader": {
     "cell_type": "code",
     "checksum": "e530cc3a75fb6f2a803b60c7f6ebf852",
     "grade": false,
     "grade_id": "cell-37396e3485c5e981",
     "locked": false,
     "schema_version": 3,
     "solution": true,
     "task": false
    }
   },
   "outputs": [],
   "source": [
    "def insert(tas,x) :\n",
    "    \"\"\"\n",
    "    insert(tas : list , x : int) -> Nonetype\n",
    "    la fonction doit ajouter un élément x au tas de manière à ce qu'il reste un arbre binaire presque complet\n",
    "    tout en respectant l'invariant : les valeurs des parents doivent être inférieures à celles des enfants.\n",
    "    la fonction ne retourne rien (mais son effet de bord est de muter la liste tas)\n",
    "    \"\"\"\n",
    "    # VOTRE CODE"
   ]
  },
  {
   "cell_type": "code",
   "execution_count": null,
   "id": "1ab212fb",
   "metadata": {},
   "outputs": [],
   "source": [
    "# pour tester votre fonction\n",
    "Tas = [3,7,8,8,7,9,12,7,8,8,8,10]\n",
    "insert(Tas,1)\n",
    "print(Tas)"
   ]
  },
  {
   "cell_type": "code",
   "execution_count": null,
   "id": "4591574a",
   "metadata": {
    "deletable": false,
    "editable": false,
    "nbgrader": {
     "cell_type": "code",
     "checksum": "b7a644898c234130a26acd011622c784",
     "grade": true,
     "grade_id": "cell-a17f8271f82d1a3f",
     "locked": true,
     "points": 1,
     "schema_version": 3,
     "solution": false,
     "task": false
    }
   },
   "outputs": [],
   "source": [
    "# cellule d'évaluation, ne pas modifier"
   ]
  },
  {
   "cell_type": "code",
   "execution_count": null,
   "id": "79ca06fc",
   "metadata": {
    "deletable": false,
    "nbgrader": {
     "cell_type": "code",
     "checksum": "07020f980a46a8170ca32ce7ba42699d",
     "grade": false,
     "grade_id": "cell-620301f2266fcdd0",
     "locked": false,
     "schema_version": 3,
     "solution": true,
     "task": false
    }
   },
   "outputs": [],
   "source": [
    "def extractMin(tas) :\n",
    "    \"\"\"\n",
    "    extractMin(tas : list) -> Min : int \n",
    "    la fonction doit retirer la racine du tas \n",
    "    tout en respectant l'invariant : les valeurs des parents doivent être inférieures à celles des enfants.\n",
    "    \"\"\"\n",
    "    # VOTRE CODE"
   ]
  },
  {
   "cell_type": "code",
   "execution_count": null,
   "id": "fed89874",
   "metadata": {},
   "outputs": [],
   "source": [
    "# pour tester votre fonction\n",
    "Tas = [3,7,8,8,7,9,12,7,8,8,8,10]\n",
    "m = extractMin(Tas)\n",
    "print(m,Tas)"
   ]
  },
  {
   "cell_type": "code",
   "execution_count": null,
   "id": "b2c670db",
   "metadata": {
    "deletable": false,
    "editable": false,
    "nbgrader": {
     "cell_type": "code",
     "checksum": "9fda61974718347f6899f90bafe3d0b9",
     "grade": true,
     "grade_id": "cell-6b6714c908f3aec5",
     "locked": true,
     "points": 1,
     "schema_version": 3,
     "solution": false,
     "task": false
    }
   },
   "outputs": [],
   "source": [
    "# cellule d'évaluation, ne pas modifier"
   ]
  },
  {
   "cell_type": "markdown",
   "id": "5e650f59",
   "metadata": {
    "deletable": false,
    "editable": false,
    "nbgrader": {
     "cell_type": "markdown",
     "checksum": "86b1528ab224f481b2af17d3d1817f05",
     "grade": false,
     "grade_id": "cell-6ec22d990d03d7d0",
     "locked": true,
     "schema_version": 3,
     "solution": false,
     "task": false
    }
   },
   "source": [
    "Construisons maintenant un tri par tas et montrons qu'il explose le tri par sélection dont il est issu."
   ]
  },
  {
   "cell_type": "code",
   "execution_count": null,
   "id": "d9606b28",
   "metadata": {
    "deletable": false,
    "editable": false,
    "nbgrader": {
     "cell_type": "code",
     "checksum": "dee4840db069dccf6179a0d7b4959f36",
     "grade": false,
     "grade_id": "cell-3ee00647803c2fcc",
     "locked": true,
     "schema_version": 3,
     "solution": false,
     "task": false
    }
   },
   "outputs": [],
   "source": [
    "def triParSelection(liste) :\n",
    "    n = len(liste)\n",
    "    for i in range(n-1) :\n",
    "        min = i\n",
    "        for j in range(i+1,n) :\n",
    "            if liste[j]<liste[min] :\n",
    "                min = j\n",
    "        if min != i :\n",
    "            liste[i], liste[min] = liste[min], liste[i]\n",
    "    return L"
   ]
  },
  {
   "cell_type": "code",
   "execution_count": null,
   "id": "42f83888",
   "metadata": {
    "deletable": false,
    "editable": false,
    "nbgrader": {
     "cell_type": "code",
     "checksum": "515f0b08b9e8cd6990ec696e3261f72e",
     "grade": false,
     "grade_id": "cell-d7f598c8095bb22b",
     "locked": true,
     "schema_version": 3,
     "solution": false,
     "task": false
    }
   },
   "outputs": [],
   "source": [
    "def triParTas(liste) :\n",
    "    T = []\n",
    "    Ltrie = []\n",
    "    n = len(liste)\n",
    "    for e in liste :\n",
    "        insert(T,e)\n",
    "    for i in range(n) :\n",
    "        Ltrie.append(extractMin(T))\n",
    "    return Ltrie"
   ]
  },
  {
   "cell_type": "code",
   "execution_count": null,
   "id": "f4dc85bf",
   "metadata": {
    "deletable": false,
    "editable": false,
    "nbgrader": {
     "cell_type": "code",
     "checksum": "388fb1e09da8940c99c3e1d256cc74e1",
     "grade": false,
     "grade_id": "cell-a59592609b76dfa3",
     "locked": true,
     "schema_version": 3,
     "solution": false,
     "task": false
    }
   },
   "outputs": [],
   "source": [
    "L = [-13,12,5,1,95,4]\n",
    "print(triParSelection(L))\n",
    "print(triParTas(L))"
   ]
  },
  {
   "cell_type": "code",
   "execution_count": null,
   "id": "e3f70dae",
   "metadata": {
    "deletable": false,
    "editable": false,
    "nbgrader": {
     "cell_type": "code",
     "checksum": "59631222457f8618d853c61e5c7d207a",
     "grade": false,
     "grade_id": "cell-4e68347860018e17",
     "locked": true,
     "schema_version": 3,
     "solution": false,
     "task": false
    }
   },
   "outputs": [],
   "source": [
    "from time import time\n",
    "from random import randint\n",
    "import matplotlib.pyplot as plt\n",
    "plt.style.use('ggplot')\n",
    "plt.rcParams['figure.figsize'] = (15, 5)\n",
    "\n",
    "I, T_trisel, T_tritas = [], [], []\n",
    "for i in range(100,1000,1) :\n",
    "    L = []\n",
    "    L = [randint(0,i) for k in range(i)]\n",
    "    start1 = time()\n",
    "    triParSelection(L)\n",
    "    stop1 = time()\n",
    "    T_trisel.append(stop1-start1)\n",
    "    start2 = time()\n",
    "    triParTas(L)\n",
    "    stop2 = time()\n",
    "    T_tritas.append(stop2-start2)\n",
    "    I.append(i)\n",
    "\n",
    "plt.plot(I,T_trisel,label=\"tri par sélection\")\n",
    "plt.plot(I,T_tritas,label=\"tri par tas\")\n",
    "\n",
    "plt.xlabel('taille de la liste')\n",
    "plt.ylabel(\"temps d'exécution (s)\")\n",
    "plt.legend()"
   ]
  },
  {
   "cell_type": "markdown",
   "id": "49046386",
   "metadata": {
    "deletable": false,
    "editable": false,
    "nbgrader": {
     "cell_type": "markdown",
     "checksum": "b7872e81c8702a036dea8ef92c24bcbc",
     "grade": false,
     "grade_id": "cell-746de2f0cb56c472",
     "locked": true,
     "schema_version": 3,
     "solution": false,
     "task": false
    }
   },
   "source": [
    "Les graphes nous ont donc ici permis de mettre au point une structure de données capable d'upgrader tout algorithme nécessitant une détermination répétée d'un plus petit (ou grand) élément dans un ensemble."
   ]
  },
  {
   "cell_type": "markdown",
   "id": "6c737714",
   "metadata": {
    "deletable": false,
    "editable": false,
    "nbgrader": {
     "cell_type": "markdown",
     "checksum": "5f7f32da2bdef8a8b7257b8b19e5b334",
     "grade": false,
     "grade_id": "cell-505888c4ff40fcd9",
     "locked": true,
     "schema_version": 3,
     "solution": false,
     "task": false
    }
   },
   "source": [
    "## Parcours d'un graphe"
   ]
  },
  {
   "cell_type": "markdown",
   "id": "837c0ffd",
   "metadata": {
    "deletable": false,
    "editable": false,
    "nbgrader": {
     "cell_type": "markdown",
     "checksum": "9ccf70fe2eddb7a3aec8ec009979e9d7",
     "grade": false,
     "grade_id": "cell-e1054f642cf56bf7",
     "locked": true,
     "schema_version": 3,
     "solution": false,
     "task": false
    }
   },
   "source": [
    "### Détecteur de cycle"
   ]
  },
  {
   "cell_type": "markdown",
   "id": "93523a7b",
   "metadata": {
    "deletable": false,
    "editable": false,
    "nbgrader": {
     "cell_type": "markdown",
     "checksum": "38e8e4e7e1af8a09a0038a65c5456214",
     "grade": false,
     "grade_id": "cell-d5c4b6eb22eeae5b",
     "locked": true,
     "schema_version": 3,
     "solution": false,
     "task": false
    }
   },
   "source": [
    "Les graphes orientés sont générallement utilisés pour représenter un ensemble de dépendances (l'ensemble des prérequis d'un cours, l'ensemble des installations nécessaires au fonctionnement d'un programme, etc...).\n",
    "\n",
    "Et la présence de cycles dans de tels graphes est synonyme de bloquage (exemple : pour faire la première tâche, vous attendez la seconde, et pour faire la seconde, vous attendez la première...). \n",
    "\n",
    "Quelle que soit l'application, détecter les cycles est donc primordial pour éviter de se retrouver dans ce type de situation."
   ]
  },
  {
   "cell_type": "markdown",
   "id": "eb765c88",
   "metadata": {
    "deletable": false,
    "editable": false,
    "nbgrader": {
     "cell_type": "markdown",
     "checksum": "de2fe645fe538667c64ad825a2306d92",
     "grade": false,
     "grade_id": "cell-527821eb72eb9595",
     "locked": true,
     "schema_version": 3,
     "solution": false,
     "task": false
    }
   },
   "source": [
    "Une idée pour détecter un cycle est d'utiliser à nouveau le **parcours en profondeur** : si on tombe sur un sommet déjà exploré au cours de la progression dans une branche, alors on a affaire à un cycle."
   ]
  },
  {
   "cell_type": "markdown",
   "id": "aef7949a",
   "metadata": {
    "deletable": false,
    "editable": false,
    "nbgrader": {
     "cell_type": "markdown",
     "checksum": "328f28f5f8b879feb769e9b74530c9f0",
     "grade": false,
     "grade_id": "cell-796204c454bb46ae",
     "locked": true,
     "schema_version": 3,
     "solution": false,
     "task": false
    }
   },
   "source": [
    "Point important : on suppose ici que les graphes donnés en argument à la fonction sont non orientés.\n",
    "\n",
    "Le problème que pose ce type de graphe pour la recherche de cycle est la présence systématique du sommet considéré dans la liste de ses voisins (si 'A' est le voisin de 'B' alors 'B' est le voisin de 'A') puisqu'un graphe non-orienté permet les aller-retour.<br>\n",
    "On oriente alors dans un premier temps le graphe non orienté donné en argument en retirant systématiquement de la liste des voisins d'un sommet les sommets dont lui-même est le voisin. On ne sera ainsi plus piégé par un aller-retour entre deux voisins. On peut s'assurer ensuite de la présence d'un cycle si le parcours en profondeur rencontre un sommet présent dans `Vus`.<br>"
   ]
  },
  {
   "cell_type": "markdown",
   "id": "1e6b6238",
   "metadata": {
    "deletable": false,
    "editable": false,
    "nbgrader": {
     "cell_type": "markdown",
     "checksum": "41c1c18f29d076b06ac95ffa20de62be",
     "grade": false,
     "grade_id": "cell-3e599dd0a6b0d81a",
     "locked": true,
     "schema_version": 3,
     "solution": false,
     "task": false
    }
   },
   "source": [
    "Ajoutez donc à la fonction un bout de code qui construit un graphe `Go` orienté à partir de `G`."
   ]
  },
  {
   "cell_type": "code",
   "execution_count": null,
   "id": "7185241f",
   "metadata": {
    "deletable": false,
    "nbgrader": {
     "cell_type": "code",
     "checksum": "0b5f3f3e3453dc9cc894d0a3b50e8744",
     "grade": false,
     "grade_id": "cell-144ba331d42f5cad",
     "locked": false,
     "schema_version": 3,
     "solution": true,
     "task": false
    }
   },
   "outputs": [],
   "source": [
    "from collections import deque\n",
    "import copy\n",
    "\n",
    "def detecteCycles(G,depart):\n",
    "    \"\"\"\n",
    "    detecteCycles(G : dict , depart) -> bool\n",
    "    depart est une des clés de G\n",
    "    detecteCycles doit retourner True si un cycle est rencontré\n",
    "    \"\"\"\n",
    "    pile = deque()\n",
    "    pile.append(depart)\n",
    "    Vus = []\n",
    "    # on transforme G en un graphe orienté Go\n",
    "    Go = copy.deepcopy(G) # on veut éviter de modifier G (qui est mutable) en touchant à Go\n",
    "    # VOTRE CODE\n",
    "    while pile :\n",
    "        sommet = pile.pop()\n",
    "        if not sommet in Vus :\n",
    "            Voisins = Go[sommet]\n",
    "            pile += Voisins\n",
    "            Vus.append(sommet)\n",
    "        else : \n",
    "            return True\n",
    "    return False"
   ]
  },
  {
   "cell_type": "code",
   "execution_count": null,
   "id": "fd563e3f",
   "metadata": {
    "deletable": false,
    "editable": false,
    "nbgrader": {
     "cell_type": "code",
     "checksum": "56b4051fa97ef9eec570c419d07bce8a",
     "grade": true,
     "grade_id": "cell-72e861cba29f6d85",
     "locked": true,
     "points": 1,
     "schema_version": 3,
     "solution": false,
     "task": false
    }
   },
   "outputs": [],
   "source": [
    "# cellule d'évaluation, ne pas modifier"
   ]
  },
  {
   "cell_type": "markdown",
   "id": "2a33b4ba",
   "metadata": {
    "deletable": false,
    "editable": false,
    "nbgrader": {
     "cell_type": "markdown",
     "checksum": "84513bbf6a58605ac73ee1d787a097e4",
     "grade": false,
     "grade_id": "cell-0adaba58c6c33521",
     "locked": true,
     "schema_version": 3,
     "solution": false,
     "task": false
    }
   },
   "source": [
    "Testez votre fonction sur les trois graphes suivants :\n",
    "![](http://cordier-phychi.toile-libre.org/Info/github/cyclounon.png)"
   ]
  },
  {
   "cell_type": "code",
   "execution_count": null,
   "id": "a5da5208",
   "metadata": {
    "deletable": false,
    "editable": false,
    "nbgrader": {
     "cell_type": "code",
     "checksum": "2fb66e690b6c30abb480deac29b1ca7a",
     "grade": false,
     "grade_id": "cell-dbc709265403b974",
     "locked": true,
     "schema_version": 3,
     "solution": false,
     "task": false
    }
   },
   "outputs": [],
   "source": [
    "G1 = {'A' : ['B'],\n",
    "      'B' : ['A','C'],\n",
    "      'C' : ['B','D','E'],\n",
    "      'D' : ['C','E'],\n",
    "      'E' : ['C','D']}\n",
    "G2 = {'A' : ['B','E'],\n",
    "      'B' : ['A','C'],\n",
    "      'C' : ['B','D'],\n",
    "      'D' : ['C','E'],\n",
    "      'E' : ['A','D']}\n",
    "G3 = {'A' : ['B','E'],\n",
    "      'B' : ['A','C'],\n",
    "      'C' : ['B','D'],\n",
    "      'D' : ['C'],\n",
    "      'E' : ['A']}"
   ]
  },
  {
   "cell_type": "code",
   "execution_count": null,
   "id": "cd29f5a3",
   "metadata": {},
   "outputs": [],
   "source": [
    "detecteCycles(G1,'A')"
   ]
  },
  {
   "cell_type": "markdown",
   "id": "6c03298a",
   "metadata": {
    "deletable": false,
    "editable": false,
    "nbgrader": {
     "cell_type": "markdown",
     "checksum": "3ba21d36250b7bdf39b0c0d1da88c8f7",
     "grade": false,
     "grade_id": "cell-d63452226f65be50",
     "locked": true,
     "schema_version": 3,
     "solution": false,
     "task": false
    }
   },
   "source": [
    "### Plus court chemin"
   ]
  },
  {
   "cell_type": "markdown",
   "id": "2106bddf",
   "metadata": {
    "deletable": false,
    "editable": false,
    "nbgrader": {
     "cell_type": "markdown",
     "checksum": "09ad58056d092ebca59227b35716c00a",
     "grade": false,
     "grade_id": "cell-39d57523bdd90ca4",
     "locked": true,
     "schema_version": 3,
     "solution": false,
     "task": false
    }
   },
   "source": [
    "Une autre application ultra importante des graphes : trouver le plus vite possible le plus court chemin entre deux points.<br>"
   ]
  },
  {
   "cell_type": "markdown",
   "id": "66a6c028",
   "metadata": {
    "deletable": false,
    "editable": false,
    "nbgrader": {
     "cell_type": "markdown",
     "checksum": "12bf4bc0fce0a97c067462f8b75055f3",
     "grade": false,
     "grade_id": "cell-47e8ebfd1c9c23b3",
     "locked": true,
     "schema_version": 3,
     "solution": false,
     "task": false
    }
   },
   "source": [
    "On peut presque toujours modéliser un déplacement comme un chemin sur un graphe (ou plutôt une chaîne dans le cas présent car nos graphes ne seront pas orientés).\n",
    "\n",
    "Représentons par exemple la carte d'un petit jeu vidéo sous forme de graphe.<br>\n",
    "Pour cela, on transforme chaque lieu possible en un sommet et chaque transition possible d'un point à un autre comme une arête."
   ]
  },
  {
   "cell_type": "markdown",
   "id": "e72fb93a",
   "metadata": {
    "deletable": false,
    "editable": false,
    "nbgrader": {
     "cell_type": "markdown",
     "checksum": "fe5623c899f876305c8db1813fa3c815",
     "grade": false,
     "grade_id": "cell-a40fb9e55634b1a7",
     "locked": true,
     "schema_version": 3,
     "solution": false,
     "task": false
    }
   },
   "source": [
    "![](http://cordier-phychi.toile-libre.org/Info/github/grillgraphe.png)"
   ]
  },
  {
   "cell_type": "markdown",
   "id": "13a70e7a",
   "metadata": {
    "deletable": false,
    "editable": false,
    "nbgrader": {
     "cell_type": "markdown",
     "checksum": "c53c34eaf2abb9340fb59ca2e006d7af",
     "grade": false,
     "grade_id": "cell-52023fd858dc37d0",
     "locked": true,
     "schema_version": 3,
     "solution": false,
     "task": false
    }
   },
   "source": [
    "Créons une petite carte de 20 cases sur 20 avec des déplacements possibles horizontaux, verticaux mais aussi diagonaux d'une case à une cas voisine.<br>\n",
    "Tous les arcs reçoivent d'abord le même poids de 1."
   ]
  },
  {
   "cell_type": "code",
   "execution_count": null,
   "id": "1fc110dc",
   "metadata": {
    "deletable": false,
    "editable": false,
    "nbgrader": {
     "cell_type": "code",
     "checksum": "00e96dcbe2c14da5107c828677d6709e",
     "grade": false,
     "grade_id": "cell-56f8521544222b9c",
     "locked": true,
     "schema_version": 3,
     "solution": false,
     "task": false
    }
   },
   "outputs": [],
   "source": [
    "carte = {}\n",
    "imax = 20\n",
    "jmax = 20\n",
    "for i in range(imax) :\n",
    "    for j in range(jmax) :\n",
    "        poids_voisins = {}\n",
    "        if i > 0 :\n",
    "            poids_voisins[(i-1,j)] = 1\n",
    "        if j > 0 :\n",
    "            poids_voisins[(i,j-1)] = 1\n",
    "        if i > 0 and j > 0 :\n",
    "            poids_voisins[(i-1,j-1)] = 1\n",
    "        if i < imax-1 :\n",
    "            poids_voisins[(i+1,j)] = 1\n",
    "        if j < jmax-1 :\n",
    "            poids_voisins[(i,j+1)] = 1\n",
    "        if i < imax-1 and j < jmax-1 :\n",
    "            poids_voisins[(i+1,j+1)] = 1\n",
    "        carte[(i,j)] = poids_voisins"
   ]
  },
  {
   "cell_type": "markdown",
   "id": "789683ea",
   "metadata": {
    "deletable": false,
    "editable": false,
    "nbgrader": {
     "cell_type": "markdown",
     "checksum": "fca9279f55c93fddf330ccf08bf0d3bb",
     "grade": false,
     "grade_id": "cell-67388b5fdcfee4d7",
     "locked": true,
     "schema_version": 3,
     "solution": false,
     "task": false
    }
   },
   "source": [
    "Compliquons notre carte en y rajoutant différents environnements : des mérécages où il est difficile de se mouvoir et des murs infranchissables.<br>\n",
    "Pour modéliser les mérécages on va modifier les pondérations : on augmente le poids des arêtes amenant à des sommets s'y trouvant. Et pour les murs, on va retirer du graphe les sommets correspondant."
   ]
  },
  {
   "cell_type": "code",
   "execution_count": null,
   "id": "84734636",
   "metadata": {
    "deletable": false,
    "editable": false,
    "nbgrader": {
     "cell_type": "code",
     "checksum": "0666cb1cd684746e3378fb28e40b1da3",
     "grade": false,
     "grade_id": "cell-4f4ea37e2d35d091",
     "locked": true,
     "schema_version": 3,
     "solution": false,
     "task": false
    }
   },
   "outputs": [],
   "source": [
    "# marécages\n",
    "limites_marecages = ((5,19),(5,12)) # s'étendent de 5 à 19 en largeur, et de 5 à 12 en hauteur\n",
    "for sommet in carte.keys() :\n",
    "    for voisin in carte[sommet].keys() :\n",
    "        i,j = voisin\n",
    "        if limites_marecages[0][0]<=i<=limites_marecages[0][1] and limites_marecages[1][0]<=j<=limites_marecages[1][1] :\n",
    "            carte[sommet][voisin] = 5\n",
    "\n",
    "# murs (on retire les sommets concernés (y compris des voisins))\n",
    "limites_murs = ((17,11),(16,11),(15,11),(17,12),(16,12),(15,12),(15,13),(15,14),(15,15),(15,16),(15,17),(15,18),(14,18),(13,18),(12,18),(11,18),(11,17))\n",
    "# chaque couple (a,b) correspond aux coordonnées d'une case de mur\n",
    "for sommet in carte.copy().keys() :\n",
    "    for voisin in carte[sommet].copy().keys() :\n",
    "        i,j = voisin\n",
    "        if (i,j) in limites_murs :\n",
    "            del carte[sommet][voisin]\n",
    "for sommet in carte.copy().keys() :\n",
    "    i,j = sommet\n",
    "    if (i,j) in limites_murs :\n",
    "        del carte[sommet]"
   ]
  },
  {
   "cell_type": "markdown",
   "id": "b0d75df8",
   "metadata": {
    "deletable": false,
    "editable": false,
    "nbgrader": {
     "cell_type": "markdown",
     "checksum": "d0225b91a56e6679396581ca028babaf",
     "grade": false,
     "grade_id": "cell-9351cd1c868b75cd",
     "locked": true,
     "schema_version": 3,
     "solution": false,
     "task": false
    }
   },
   "source": [
    "Définissons les sommets de départ et d'arrivée."
   ]
  },
  {
   "cell_type": "code",
   "execution_count": null,
   "id": "991f65ba",
   "metadata": {
    "deletable": false,
    "editable": false,
    "nbgrader": {
     "cell_type": "code",
     "checksum": "3d203ef1ee006bb267f7c3fdd320b519",
     "grade": false,
     "grade_id": "cell-c8323cf6981c826e",
     "locked": true,
     "schema_version": 3,
     "solution": false,
     "task": false
    }
   },
   "outputs": [],
   "source": [
    "depart = (2,2)\n",
    "arrivee = (17,16)"
   ]
  },
  {
   "cell_type": "markdown",
   "id": "e007fa27",
   "metadata": {
    "deletable": false,
    "editable": false,
    "nbgrader": {
     "cell_type": "markdown",
     "checksum": "fbe82713200d4acb6f65fcdd85600bff",
     "grade": false,
     "grade_id": "cell-d52e2776411ede85",
     "locked": true,
     "schema_version": 3,
     "solution": false,
     "task": false
    }
   },
   "source": [
    "Et construsions enfin une fonction permettant de tracer la carte en faisant apparaître les marécages, les murs et les points de départ et d'arrivée."
   ]
  },
  {
   "cell_type": "code",
   "execution_count": null,
   "id": "907e9e69",
   "metadata": {
    "deletable": false,
    "editable": false,
    "nbgrader": {
     "cell_type": "code",
     "checksum": "0602ae4840a4af4976d3b59c4aa91d2e",
     "grade": false,
     "grade_id": "cell-ed0c79b94b3935e5",
     "locked": true,
     "schema_version": 3,
     "solution": false,
     "task": false
    }
   },
   "outputs": [],
   "source": [
    "import matplotlib.pyplot as plt\n",
    "from matplotlib.patches import Rectangle\n",
    "plt.style.use('seaborn')\n",
    "fig, ax = plt.subplots(figsize=(15,15))\n",
    "\n",
    "coul_bords = (0/255,110/255,118/255)\n",
    "coul_marec = (155/255,207/255,255/255)\n",
    "coul_prairie = (214/255,232/255,147/255)\n",
    "coul_murs = (0.3,0.3,0.3)\n",
    "coul_depart = (39/255,187/255,40/255)\n",
    "coul_arrivee = (255/255,25/255,0/255)\n",
    "coul_chemin = (255/255,209/255,247/255)\n",
    "\n",
    "def trace_terrain(dim,dep,arr,marec,murs) :\n",
    "    for i in range(dim[0]) :\n",
    "        for j in range(dim[1]) :\n",
    "            ax.add_patch(Rectangle((i, j), 1, 1,\n",
    "                         edgecolor = coul_bords,\n",
    "                         facecolor = coul_prairie,\n",
    "                         fill=True,\n",
    "                         lw=2))\n",
    "    for i in range(marec[0][0],marec[0][1]+1) :\n",
    "        for j in range(marec[1][0],marec[1][1]+1) :\n",
    "            ax.add_patch(Rectangle((i, j), 1, 1,\n",
    "                         edgecolor = coul_bords,\n",
    "                         facecolor = coul_marec,\n",
    "                         fill=True,\n",
    "                         lw=2))\n",
    "    for coord in murs :\n",
    "        ax.add_patch(Rectangle((coord[0], coord[1]), 1, 1,\n",
    "                     edgecolor = coul_bords,\n",
    "                     facecolor = (0.3,0.3,0.3),\n",
    "                     fill=True,\n",
    "                     lw=2))\n",
    "    ax.add_patch(Rectangle(dep, 1, 1,\n",
    "                 edgecolor = coul_bords,\n",
    "                 facecolor = coul_depart,\n",
    "                 fill=True,\n",
    "                 lw=2))\n",
    "    ax.add_patch(Rectangle(arr, 1, 1,\n",
    "                 edgecolor = coul_bords,\n",
    "                 facecolor = coul_arrivee,\n",
    "                 fill=True,\n",
    "                 lw=2))\n",
    "    ax.autoscale_view()\n",
    "\n",
    "trace_terrain((20,20),depart,arrivee,limites_marecages,limites_murs)"
   ]
  },
  {
   "cell_type": "markdown",
   "id": "50bd9289",
   "metadata": {
    "deletable": false,
    "editable": false,
    "nbgrader": {
     "cell_type": "markdown",
     "checksum": "c24e87ed2b434e2c659d632ce7307a94",
     "grade": false,
     "grade_id": "cell-f89de5c08cbec748",
     "locked": true,
     "schema_version": 3,
     "solution": false,
     "task": false
    }
   },
   "source": [
    "#### Recherche en largeur"
   ]
  },
  {
   "cell_type": "markdown",
   "id": "7ced3de5",
   "metadata": {
    "deletable": false,
    "editable": false,
    "nbgrader": {
     "cell_type": "markdown",
     "checksum": "bf4851f8755406d9f78aae37efdd967b",
     "grade": false,
     "grade_id": "cell-6252d8c07c1df801",
     "locked": true,
     "schema_version": 3,
     "solution": false,
     "task": false
    }
   },
   "source": [
    "Utilisons l'algorithme de recherche en largeur vu en cours pour tenter de trouver la plus petite chaîne de sommets reliant le départ à l'arrivée."
   ]
  },
  {
   "cell_type": "code",
   "execution_count": null,
   "id": "299928e2",
   "metadata": {
    "deletable": false,
    "editable": false,
    "nbgrader": {
     "cell_type": "code",
     "checksum": "31dae974c555ccdea462d2f80f47c3e1",
     "grade": false,
     "grade_id": "cell-1d6bea566ad34a56",
     "locked": true,
     "schema_version": 3,
     "solution": false,
     "task": false
    }
   },
   "outputs": [],
   "source": [
    "def recherche_largeur(G,depart,arrivee):\n",
    "    file = [(depart,[depart])]    \n",
    "    Vus = []\n",
    "    while file :\n",
    "        sommet,chemin = file.pop(0)\n",
    "        if sommet == arrivee :\n",
    "            return chemin,Vus\n",
    "        if not sommet in Vus :\n",
    "            for s in G[sommet] :\n",
    "                nv_chemin = chemin+[s]\n",
    "                file.append((s,nv_chemin))\n",
    "            Vus.append(sommet) \n",
    "    return False "
   ]
  },
  {
   "cell_type": "markdown",
   "id": "5022562e",
   "metadata": {
    "deletable": false,
    "editable": false,
    "nbgrader": {
     "cell_type": "markdown",
     "checksum": "b1ac9af30482c678357ec2ea8f014bf5",
     "grade": false,
     "grade_id": "cell-02d65e65cc840c3a",
     "locked": true,
     "schema_version": 3,
     "solution": false,
     "task": false
    }
   },
   "source": [
    "Chaîne obtenue :"
   ]
  },
  {
   "cell_type": "code",
   "execution_count": null,
   "id": "7b7194a7",
   "metadata": {
    "deletable": false,
    "editable": false,
    "nbgrader": {
     "cell_type": "code",
     "checksum": "6bd0cf4c12940fca12b75de83149fc7e",
     "grade": false,
     "grade_id": "cell-24b5c7ff2f9131ee",
     "locked": true,
     "schema_version": 3,
     "solution": false,
     "task": false
    }
   },
   "outputs": [],
   "source": [
    "recherche_largeur(carte,depart,arrivee)[0]"
   ]
  },
  {
   "cell_type": "markdown",
   "id": "e876513e",
   "metadata": {
    "deletable": false,
    "editable": false,
    "nbgrader": {
     "cell_type": "markdown",
     "checksum": "48d84dadacf8962d5825364cac3c08a4",
     "grade": false,
     "grade_id": "cell-64a03e754d598ab9",
     "locked": true,
     "schema_version": 3,
     "solution": false,
     "task": false
    }
   },
   "source": [
    "Traçons la chaîne en rose sur la carte :"
   ]
  },
  {
   "cell_type": "code",
   "execution_count": null,
   "id": "9024c1d7",
   "metadata": {
    "deletable": false,
    "editable": false,
    "nbgrader": {
     "cell_type": "code",
     "checksum": "e050bceaa976f0464f7f7fe3c4f76de9",
     "grade": false,
     "grade_id": "cell-5ce53d3e2af988f0",
     "locked": true,
     "schema_version": 3,
     "solution": false,
     "task": false
    }
   },
   "outputs": [],
   "source": [
    "trace_terrain((20,20),depart,arrivee,limites_marecages,limites_murs)\n",
    "for sommet in recherche_largeur(carte,depart,arrivee)[0][1:-1] :\n",
    "    ax.add_patch(Rectangle(sommet,1, 1,edgecolor=coul_bords,facecolor=coul_chemin,fill=True,lw=2))\n",
    "fig"
   ]
  },
  {
   "cell_type": "markdown",
   "id": "1c1dcf16",
   "metadata": {
    "deletable": false,
    "editable": false,
    "nbgrader": {
     "cell_type": "markdown",
     "checksum": "7526df8e8403e4af2a5ba93000e53344",
     "grade": false,
     "grade_id": "cell-e66355a0ca4b2df0",
     "locked": true,
     "schema_version": 3,
     "solution": false,
     "task": false
    }
   },
   "source": [
    "On constate donc que la recherche en largeur trouve un chemin très court qui évite bien le mur.<br>"
   ]
  },
  {
   "cell_type": "markdown",
   "id": "ae8217e2",
   "metadata": {
    "deletable": false,
    "editable": false,
    "nbgrader": {
     "cell_type": "markdown",
     "checksum": "9e99b371612b2e4262fb1b32f5e2e377",
     "grade": false,
     "grade_id": "cell-53ccc438e598cffb",
     "locked": true,
     "schema_version": 3,
     "solution": false,
     "task": false
    }
   },
   "source": [
    "Visualisons aussi (en les blanchissant) l'ensemble des sommets inspectés par l'algorithme pour trouver son chemin."
   ]
  },
  {
   "cell_type": "code",
   "execution_count": null,
   "id": "cdaa35b3",
   "metadata": {
    "deletable": false,
    "editable": false,
    "nbgrader": {
     "cell_type": "code",
     "checksum": "8b1671b024a6c24d8d29e9d892d949cb",
     "grade": false,
     "grade_id": "cell-6ab40fdbafa3ffb5",
     "locked": true,
     "schema_version": 3,
     "solution": false,
     "task": false
    }
   },
   "outputs": [],
   "source": [
    "trace_terrain((20,20),depart,arrivee,limites_marecages,limites_murs)\n",
    "for sommet in recherche_largeur(carte,depart,arrivee)[1] :\n",
    "    ax.add_patch(Rectangle(sommet,1,1,edgecolor=coul_bords,facecolor=(1,1,1,0.8),fill=True,lw=2))\n",
    "fig"
   ]
  },
  {
   "cell_type": "markdown",
   "id": "5d9de19e",
   "metadata": {
    "deletable": false,
    "editable": false,
    "nbgrader": {
     "cell_type": "markdown",
     "checksum": "06231bab910f49cd7cece02abc6385e7",
     "grade": false,
     "grade_id": "cell-5bd86c18506b8314",
     "locked": true,
     "schema_version": 3,
     "solution": false,
     "task": false
    }
   },
   "source": [
    "Quasiment toute la carte a été inspectée..."
   ]
  },
  {
   "cell_type": "markdown",
   "id": "9d30d275",
   "metadata": {
    "deletable": false,
    "editable": false,
    "nbgrader": {
     "cell_type": "markdown",
     "checksum": "81d86b6e6163a0ac58026ca09ce40f5d",
     "grade": false,
     "grade_id": "cell-f7a13590768cf64d",
     "locked": true,
     "schema_version": 3,
     "solution": false,
     "task": false
    }
   },
   "source": [
    "Répondez aux trois questions suivantes :\n",
    "- le chemin trouvé est-il le plus court possible indépendemment des pondérations ?\n",
    "- le chemin trouvé est-il le plus court possible si on prend en compte les pondérations ?\n",
    "- l'algorithme est-il efficace en terme de nombre de sommets inspectés ?"
   ]
  },
  {
   "cell_type": "code",
   "execution_count": null,
   "id": "acf1a4ef",
   "metadata": {},
   "outputs": [],
   "source": [
    "# pour répondre, vous affecterez aux variables qu1, qu2 et qu3 les valeurs 'O' si la réponse est oui et 'N' si la réponse est non.\n",
    "qu1 = '?'\n",
    "qu2 = '?'\n",
    "qu3 = '?'"
   ]
  },
  {
   "cell_type": "code",
   "execution_count": null,
   "id": "2e5f3de0",
   "metadata": {
    "deletable": false,
    "editable": false,
    "nbgrader": {
     "cell_type": "code",
     "checksum": "d68b6045d7e98a23f07e835aaaf7417e",
     "grade": true,
     "grade_id": "cell-19a7ea3d031444fe",
     "locked": true,
     "points": 1,
     "schema_version": 3,
     "solution": false,
     "task": false
    }
   },
   "outputs": [],
   "source": [
    "# cellule d'évaluation, ne pas modifier"
   ]
  },
  {
   "cell_type": "markdown",
   "id": "61ea4067",
   "metadata": {
    "deletable": false,
    "editable": false,
    "nbgrader": {
     "cell_type": "markdown",
     "checksum": "d0b17945f468428281699a321fd9208e",
     "grade": false,
     "grade_id": "cell-bd6c6f74a043ef61",
     "locked": true,
     "schema_version": 3,
     "solution": false,
     "task": false
    }
   },
   "source": [
    "#### Dijkstra"
   ]
  },
  {
   "cell_type": "markdown",
   "id": "dbb814f9",
   "metadata": {
    "deletable": false,
    "editable": false,
    "nbgrader": {
     "cell_type": "markdown",
     "checksum": "e2c8179560cd12dfb2a6bb741141d2cb",
     "grade": false,
     "grade_id": "cell-fead116766f5c6c7",
     "locked": true,
     "schema_version": 3,
     "solution": false,
     "task": false
    }
   },
   "source": [
    "Passons de la recherche en largeur à l'algorithme de Dijkstra. On utilise l'implémentation du cours avec des tas (file de priorité) fournis par le module `heapq`. "
   ]
  },
  {
   "cell_type": "code",
   "execution_count": null,
   "id": "d24d63a8",
   "metadata": {
    "deletable": false,
    "editable": false,
    "nbgrader": {
     "cell_type": "code",
     "checksum": "730718d013499b55f5aa267e72e28d6e",
     "grade": false,
     "grade_id": "cell-6ed7184a81c840d7",
     "locked": true,
     "schema_version": 3,
     "solution": false,
     "task": false
    }
   },
   "outputs": [],
   "source": [
    "import heapq\n",
    "\n",
    "def Dijkstra(G, depart, arrivee):\n",
    "    Scores = {sommet: float('inf') for sommet in G}\n",
    "    Preds = {sommet : None for sommet in G}\n",
    "    Scores[depart] = 0\n",
    "    Vus = []\n",
    "    tas = [(0, depart)]\n",
    "    while tas :\n",
    "        score_actuel, sommet_actuel = heapq.heappop(tas)\n",
    "        if sommet_actuel == arrivee :\n",
    "            return Preds,Scores,Vus\n",
    "        if score_actuel <= Scores[sommet_actuel]:          \n",
    "            score_voisin = G[sommet_actuel]\n",
    "            for voisin in score_voisin.keys():\n",
    "                if voisin not in Vus :\n",
    "                    Vus.append(voisin)\n",
    "                score = score_actuel + score_voisin[voisin]\n",
    "                if score < Scores[voisin]:\n",
    "                    Scores[voisin] = score\n",
    "                    Preds[voisin] = sommet_actuel\n",
    "                    heapq.heappush(tas, (score, voisin))"
   ]
  },
  {
   "cell_type": "code",
   "execution_count": null,
   "id": "8fe3e48b",
   "metadata": {
    "deletable": false,
    "editable": false,
    "nbgrader": {
     "cell_type": "code",
     "checksum": "528c3ade8d1c314662c1d3ebfe8b2f18",
     "grade": false,
     "grade_id": "cell-cb6ae527c25144ac",
     "locked": true,
     "schema_version": 3,
     "solution": false,
     "task": false
    }
   },
   "outputs": [],
   "source": [
    "Preds = Dijkstra(carte,depart,arrivee)[0]"
   ]
  },
  {
   "cell_type": "markdown",
   "id": "9830a605",
   "metadata": {
    "deletable": false,
    "editable": false,
    "nbgrader": {
     "cell_type": "markdown",
     "checksum": "af26ad5b06781de3b330e8230d6aedf9",
     "grade": false,
     "grade_id": "cell-f40c0a877ba87770",
     "locked": true,
     "schema_version": 3,
     "solution": false,
     "task": false
    }
   },
   "source": [
    "Définissez une fonction qui reconstitue la plus petite chaîne à partir de la liste des prédécesseurs fournie par Dijkstra."
   ]
  },
  {
   "cell_type": "code",
   "execution_count": null,
   "id": "d6d9a735",
   "metadata": {
    "deletable": false,
    "nbgrader": {
     "cell_type": "code",
     "checksum": "33695f826e8007fb83d19bd02656bce4",
     "grade": false,
     "grade_id": "cell-1aed55e2d21b8969",
     "locked": false,
     "schema_version": 3,
     "solution": true,
     "task": false
    }
   },
   "outputs": [],
   "source": [
    "def reconstruction_chaine(predecesseurs,depart,arrivee) :\n",
    "    \"\"\"\n",
    "    reconstruction_chemin(predecesseur : dict , depart : tuple , arrivee : tuple) -> chemin : liste de tuples\n",
    "    predecesseur est un dictionnaire qui pour chaque clé sous forme de tuple (x,y) (un des sommets) donne son prédécesseur là aussi sous forme de tuple (x',y').\n",
    "    la liste retournée, chaine, doit contenir la liste des sommets (chaque sommet est un tuple (x,y)) allant du depart à l'arrivee.\n",
    "    \"\"\"\n",
    "    chaine = [depart]\n",
    "    s = arrivee\n",
    "    # VOTRE CODE\n",
    "    return chaine"
   ]
  },
  {
   "cell_type": "code",
   "execution_count": null,
   "id": "4fbb91d9",
   "metadata": {
    "deletable": false,
    "editable": false,
    "nbgrader": {
     "cell_type": "code",
     "checksum": "3342883232efb6ea2058639fea7e861e",
     "grade": true,
     "grade_id": "cell-9860201a734053fc",
     "locked": true,
     "points": 1,
     "schema_version": 3,
     "solution": false,
     "task": false
    }
   },
   "outputs": [],
   "source": [
    "# cellule d'évaluation, ne pas modifier"
   ]
  },
  {
   "cell_type": "code",
   "execution_count": null,
   "id": "9410338c",
   "metadata": {
    "deletable": false,
    "editable": false,
    "nbgrader": {
     "cell_type": "code",
     "checksum": "b3df34e6f7e1c06ad846de781c397cfe",
     "grade": false,
     "grade_id": "cell-7cbadbfc79056df0",
     "locked": true,
     "schema_version": 3,
     "solution": false,
     "task": false
    }
   },
   "outputs": [],
   "source": [
    "chaine_Dijk = reconstruction_chaine(Preds,depart,arrivee)"
   ]
  },
  {
   "cell_type": "markdown",
   "id": "555fd65a",
   "metadata": {
    "deletable": false,
    "editable": false,
    "nbgrader": {
     "cell_type": "markdown",
     "checksum": "c02e4246ee51433cb43f00b4330647a7",
     "grade": false,
     "grade_id": "cell-6bac75f4ba9bf671",
     "locked": true,
     "schema_version": 3,
     "solution": false,
     "task": false
    }
   },
   "source": [
    "Vérifiez que votre chaîne est bien la même que celle ci-dessous :"
   ]
  },
  {
   "cell_type": "code",
   "execution_count": null,
   "id": "51fabb85",
   "metadata": {},
   "outputs": [],
   "source": [
    "chaine_Dijk = [(2, 2),(16, 16),(16, 17),(16, 18),(16, 19),(15, 19),(14, 19),(13, 19),(12, 19),(11, 19),(10, 18),(9, 17),(8, 16),(7, 15),(6, 14),(5, 13),(4, 12),(3, 11),(2, 10),(2, 9),(2, 8),(2, 7),(2, 6),(2, 5),(2, 4),(2, 3),(2, 2)]"
   ]
  },
  {
   "cell_type": "markdown",
   "id": "5f7c9eb7",
   "metadata": {
    "deletable": false,
    "editable": false,
    "nbgrader": {
     "cell_type": "markdown",
     "checksum": "b4a1e29ae82ea6773740ed78c4527dcb",
     "grade": false,
     "grade_id": "cell-d778564a60b28786",
     "locked": true,
     "schema_version": 3,
     "solution": false,
     "task": false
    }
   },
   "source": [
    "Traçons la chaîne obtenue."
   ]
  },
  {
   "cell_type": "code",
   "execution_count": null,
   "id": "3aa575b3",
   "metadata": {
    "deletable": false,
    "editable": false,
    "nbgrader": {
     "cell_type": "code",
     "checksum": "4630081ee83b75ffa6fbe6f517e09553",
     "grade": false,
     "grade_id": "cell-02e6e6bc41577ade",
     "locked": true,
     "schema_version": 3,
     "solution": false,
     "task": false
    }
   },
   "outputs": [],
   "source": [
    "trace_terrain((20,20),depart,arrivee,limites_marecages,limites_murs)\n",
    "for sommet in chaine_Dijk[1:-1] :\n",
    "    ax.add_patch(Rectangle(sommet,1,1,edgecolor=coul_bords,facecolor=coul_chemin,fill=True,lw=2))\n",
    "fig"
   ]
  },
  {
   "cell_type": "markdown",
   "id": "efc88e80",
   "metadata": {
    "deletable": false,
    "editable": false,
    "nbgrader": {
     "cell_type": "markdown",
     "checksum": "779fb9f7555d082db22c9e6fbbdb3078",
     "grade": false,
     "grade_id": "cell-dc72d182660afcb1",
     "locked": true,
     "schema_version": 3,
     "solution": false,
     "task": false
    }
   },
   "source": [
    "On constate que le chemin trouvé par Dijkstra prend maintenant soin de contourner le marécage.<br>"
   ]
  },
  {
   "cell_type": "code",
   "execution_count": null,
   "id": "5c5c7625",
   "metadata": {
    "deletable": false,
    "editable": false,
    "nbgrader": {
     "cell_type": "code",
     "checksum": "90766f230d72c413d8924c40c88aa865",
     "grade": false,
     "grade_id": "cell-3d56a91bd48f3993",
     "locked": true,
     "schema_version": 3,
     "solution": false,
     "task": false
    }
   },
   "outputs": [],
   "source": [
    "trace_terrain((20,20),depart,arrivee,limites_marecages,limites_murs)\n",
    "for sommet in Dijkstra(carte,depart,arrivee)[2] :\n",
    "    ax.add_patch(Rectangle(sommet,1,1,edgecolor=coul_bords,facecolor=(1,1,1,0.8),fill=True,lw=2))\n",
    "fig"
   ]
  },
  {
   "cell_type": "markdown",
   "id": "c25287d7",
   "metadata": {
    "deletable": false,
    "editable": false,
    "nbgrader": {
     "cell_type": "markdown",
     "checksum": "b4c793633650899093c546ece60c9a70",
     "grade": false,
     "grade_id": "cell-09831d05820929ba",
     "locked": true,
     "schema_version": 3,
     "solution": false,
     "task": false
    }
   },
   "source": [
    "À nouveau, une grande partie de la carte est inspectée."
   ]
  },
  {
   "cell_type": "markdown",
   "id": "746fac52",
   "metadata": {
    "deletable": false,
    "editable": false,
    "nbgrader": {
     "cell_type": "markdown",
     "checksum": "9470d3fa54289b763712bfd27658b2e0",
     "grade": false,
     "grade_id": "cell-8187dbf08b151dd6",
     "locked": true,
     "schema_version": 3,
     "solution": false,
     "task": false
    }
   },
   "source": [
    "Répondez aux trois questions suivantes :\n",
    "- le chemin trouvé est-il le plus court possible indépendemment des pondérations ?\n",
    "- le chemin trouvé est-il le plus court possible si on prend en compte les pondérations ?\n",
    "- l'algorithme est-il efficace en terme de nombre de sommets inspectés ?"
   ]
  },
  {
   "cell_type": "code",
   "execution_count": null,
   "id": "a7c2896a",
   "metadata": {},
   "outputs": [],
   "source": [
    "# pour répondre, vous affecterez aux variables qu4, qu5 et qu5 les valeurs 'O' si la réponse est oui et 'N' si la réponse est non.\n",
    "qu4 = '?'\n",
    "qu5 = '?'\n",
    "qu6 = '?'"
   ]
  },
  {
   "cell_type": "code",
   "execution_count": null,
   "id": "273750a1",
   "metadata": {
    "deletable": false,
    "editable": false,
    "nbgrader": {
     "cell_type": "code",
     "checksum": "0180facf81286262fd960e9e6e7efc51",
     "grade": true,
     "grade_id": "cell-03d711df5d62da57",
     "locked": true,
     "points": 1,
     "schema_version": 3,
     "solution": false,
     "task": false
    }
   },
   "outputs": [],
   "source": [
    "# cellule d'évaluation, ne pas modifier"
   ]
  },
  {
   "cell_type": "markdown",
   "id": "2e2179d7",
   "metadata": {
    "deletable": false,
    "editable": false,
    "nbgrader": {
     "cell_type": "markdown",
     "checksum": "3593014a73bb6504ae8d0b3a956f2782",
     "grade": false,
     "grade_id": "cell-e2a037c5bfe5b84d",
     "locked": true,
     "schema_version": 3,
     "solution": false,
     "task": false
    }
   },
   "source": [
    "#### Ajout d'une heuristique"
   ]
  },
  {
   "cell_type": "markdown",
   "id": "dd319b08",
   "metadata": {
    "deletable": false,
    "editable": false,
    "nbgrader": {
     "cell_type": "markdown",
     "checksum": "0c05b3cc742f51a56defa2eae95e590f",
     "grade": false,
     "grade_id": "cell-88dc5be004a10278",
     "locked": true,
     "schema_version": 3,
     "solution": false,
     "task": false
    }
   },
   "source": [
    "Pour améliorer la vitesse des algorithmes précédents, on va leur ajouter une **heuristique**. Une heuristique est une petite recette, une règle simple, que l'algorithme va suivre pour s'économiser des étapes.\n",
    "\n",
    "Le point noir des algorithmes précédents est qu'ils semblent contraints de parcourir quasiment toute la carte avant d'être sûr d'avoir trouvé le bon chemin.<br>\n",
    "On va les aider en les guidant vers l'arrivée.\n",
    "\n",
    "L'heuristique va donc consister à guider le choix du prochain sommet de manière à ce qu'il diminue la distance jusqu'à l'arrivée. On le dirrige en quelque sorte ves sa destination..."
   ]
  },
  {
   "cell_type": "markdown",
   "id": "a64a218f",
   "metadata": {
    "deletable": false,
    "editable": false,
    "nbgrader": {
     "cell_type": "markdown",
     "checksum": "e4c79605dc9151b596bbc415543ada99",
     "grade": false,
     "grade_id": "cell-9402a2d4f1568efb",
     "locked": true,
     "schema_version": 3,
     "solution": false,
     "task": false
    }
   },
   "source": [
    "Implémentons donc une fonction distance qui donne la distance entre deux sommets A et B.<br>\n",
    "Mais quelle distance ? Plusieurs définition non équivalentes sont pssibles : distance euclidienne, distance de Manhattan...<br>\n",
    "Ici, on va utiliser la distance de Tchebychev qui correspond à la distance sur un échiquier où les mouvements en diagonale coûte 1."
   ]
  },
  {
   "cell_type": "markdown",
   "id": "69c13b70",
   "metadata": {
    "deletable": false,
    "editable": false,
    "nbgrader": {
     "cell_type": "markdown",
     "checksum": "51ee855919f3d2a5ec0eff4e1ba4d1fa",
     "grade": false,
     "grade_id": "cell-eefa828df3d5ca20",
     "locked": true,
     "schema_version": 3,
     "solution": false,
     "task": false
    }
   },
   "source": [
    "<img width=\"400px\" src=\"http://cordier-phychi.toile-libre.org/Info/github/tchebychev.png?width=300px\">"
   ]
  },
  {
   "cell_type": "code",
   "execution_count": null,
   "id": "e42f0b80",
   "metadata": {
    "deletable": false,
    "editable": false,
    "nbgrader": {
     "cell_type": "code",
     "checksum": "af6d850a50ae444f0e4d6f067e7e23d8",
     "grade": false,
     "grade_id": "cell-aee39899e0cb21bb",
     "locked": true,
     "schema_version": 3,
     "solution": false,
     "task": false
    }
   },
   "outputs": [],
   "source": [
    "def distance(A,B) : \n",
    "    x_A,y_A = A\n",
    "    x_B,y_B = B\n",
    "    X = abs(x_B-x_A)\n",
    "    Y = abs(y_B-y_A)\n",
    "    return max(X,Y)"
   ]
  },
  {
   "cell_type": "markdown",
   "id": "ea58bd36",
   "metadata": {
    "deletable": false,
    "editable": false,
    "nbgrader": {
     "cell_type": "markdown",
     "checksum": "105ebf5e8b541df1256c90d52e23919d",
     "grade": false,
     "grade_id": "cell-c962a299f8fe3689",
     "locked": true,
     "schema_version": 3,
     "solution": false,
     "task": false
    }
   },
   "source": [
    "Implémentons maintenant une variante de la recherche en largeur qui intègre l'heuristique grâce à un tas :\n",
    "pour chaque nouveau voisin inspecté, on calcule sa distance à l'arrivée puis on l'ajoute à un tas avec cette distance comme clé de classement.<br>\n",
    "On s'assure ainsi à chaque itération de retirer du tas le sommet rapprochant le plus de la destination finale.<br>\n",
    "Il s'agit à nouveau d'un **algorithme glouton**."
   ]
  },
  {
   "cell_type": "code",
   "execution_count": null,
   "id": "3b4602d0",
   "metadata": {
    "deletable": false,
    "editable": false,
    "nbgrader": {
     "cell_type": "code",
     "checksum": "bd097a68612f2c201310b98a86099a7e",
     "grade": false,
     "grade_id": "cell-ce8c7ab8be1679fe",
     "locked": true,
     "schema_version": 3,
     "solution": false,
     "task": false
    }
   },
   "outputs": [],
   "source": [
    "import heapq\n",
    "\n",
    "def bfs_glouton(G,depart,arrivee) :\n",
    "    tas = [(0, depart)]\n",
    "    Vus = []\n",
    "    Preds = dict()\n",
    "    Preds[depart] = None\n",
    "    while tas :\n",
    "        dist_actuelle, sommet_actuel = heapq.heappop(tas) # on retire le sommet le plus proche de l'arrivée\n",
    "        if sommet_actuel == arrivee :\n",
    "            return Preds,Vus\n",
    "        for voisin in G[sommet_actuel]:\n",
    "            if voisin not in Vus :\n",
    "                Vus.append(voisin)\n",
    "            if voisin not in Preds:\n",
    "                dist = distance(arrivee, voisin)\n",
    "                heapq.heappush(tas, (dist, voisin)) # on place dans le tas le voisin affublé de sa distance\n",
    "                Preds[voisin] = sommet_actuel"
   ]
  },
  {
   "cell_type": "code",
   "execution_count": null,
   "id": "4e14021b",
   "metadata": {
    "deletable": false,
    "editable": false,
    "nbgrader": {
     "cell_type": "code",
     "checksum": "6ed2af52f54c7c421b7772f7ab60ea9e",
     "grade": false,
     "grade_id": "cell-cf09e865fad641b0",
     "locked": true,
     "schema_version": 3,
     "solution": false,
     "task": false
    }
   },
   "outputs": [],
   "source": [
    "bfs_glouton(carte,depart,arrivee)\n",
    "chaine_glouton = reconstruction_chaine(bfs_glouton(carte,depart,arrivee)[0],depart,arrivee)"
   ]
  },
  {
   "cell_type": "code",
   "execution_count": null,
   "id": "e0bf5015",
   "metadata": {
    "deletable": false,
    "editable": false,
    "nbgrader": {
     "cell_type": "code",
     "checksum": "f0be333864916c21ebd24a8a63131edc",
     "grade": false,
     "grade_id": "cell-e9ccf364987b5ae7",
     "locked": true,
     "schema_version": 3,
     "solution": false,
     "task": false
    }
   },
   "outputs": [],
   "source": [
    "trace_terrain((20,20),depart,arrivee,limites_marecages,limites_murs)\n",
    "for sommet in chaine_glouton[1:-1] :\n",
    "    ax.add_patch(Rectangle(sommet,1,1,edgecolor=coul_bords,facecolor=coul_chemin,fill=True,lw=2))\n",
    "fig"
   ]
  },
  {
   "cell_type": "markdown",
   "id": "9e68d865",
   "metadata": {
    "deletable": false,
    "editable": false,
    "nbgrader": {
     "cell_type": "markdown",
     "checksum": "a8968f3037e1c9e2395a79bdca9d6402",
     "grade": false,
     "grade_id": "cell-69448d95f570acf7",
     "locked": true,
     "schema_version": 3,
     "solution": false,
     "task": false
    }
   },
   "source": [
    "On voit que le chemin se dirige tout de suite vers l'arrivée, jusqu'à rencontrer un mur..."
   ]
  },
  {
   "cell_type": "code",
   "execution_count": null,
   "id": "af59670c",
   "metadata": {
    "deletable": false,
    "editable": false,
    "nbgrader": {
     "cell_type": "code",
     "checksum": "a3b77e48f88757b1751cdd19480a0b6b",
     "grade": false,
     "grade_id": "cell-17c3dc41424ed4d1",
     "locked": true,
     "schema_version": 3,
     "solution": false,
     "task": false
    }
   },
   "outputs": [],
   "source": [
    "trace_terrain((20,20),depart,arrivee,limites_marecages,limites_murs)\n",
    "for sommet in bfs_glouton(carte,depart,arrivee)[1] :\n",
    "    ax.add_patch(Rectangle(sommet,1,1,edgecolor=coul_bords,facecolor=(1,1,1,0.8),fill=True,lw=2))\n",
    "fig"
   ]
  },
  {
   "cell_type": "markdown",
   "id": "6a56929e",
   "metadata": {
    "deletable": false,
    "editable": false,
    "nbgrader": {
     "cell_type": "markdown",
     "checksum": "31551c757525c6dd9d1756f5b473b145",
     "grade": false,
     "grade_id": "cell-8e138bcd180de09c",
     "locked": true,
     "schema_version": 3,
     "solution": false,
     "task": false
    }
   },
   "source": [
    "Le nombre de sommets inspectés a spectaculairement diminué !"
   ]
  },
  {
   "cell_type": "markdown",
   "id": "c7d6746f",
   "metadata": {
    "deletable": false,
    "editable": false,
    "nbgrader": {
     "cell_type": "markdown",
     "checksum": "f45cc2057d37f8d80db60e30763ad26e",
     "grade": false,
     "grade_id": "cell-4f8ec8673f41b1a1",
     "locked": true,
     "schema_version": 3,
     "solution": false,
     "task": false
    }
   },
   "source": [
    "Répondez aux trois questions suivantes :\n",
    "- le chemin trouvé est-il le plus court possible indépendemment des pondérations ?\n",
    "- le chemin trouvé est-il le plus court possible si on prend en compte les pondérations ?\n",
    "- l'algorithme est-il efficace en terme de nombre de sommets inspectés ?"
   ]
  },
  {
   "cell_type": "code",
   "execution_count": null,
   "id": "96be7e49",
   "metadata": {},
   "outputs": [],
   "source": [
    "# pour répondre, vous affecterez aux variables qu7, qu8 et qu9 les valeurs 'O' si la réponse est oui et 'N' si la réponse est non.\n",
    "qu7 = '?'\n",
    "qu8 = '?'\n",
    "qu9 = '?'"
   ]
  },
  {
   "cell_type": "code",
   "execution_count": null,
   "id": "75eadfbe",
   "metadata": {
    "deletable": false,
    "editable": false,
    "nbgrader": {
     "cell_type": "code",
     "checksum": "0e328c64cc640fbe2a3b885480c2bbbf",
     "grade": true,
     "grade_id": "cell-929313548966f72c",
     "locked": true,
     "points": 1,
     "schema_version": 3,
     "solution": false,
     "task": false
    }
   },
   "outputs": [],
   "source": [
    "# cellule d'évaluation, ne pas modifier"
   ]
  },
  {
   "cell_type": "markdown",
   "id": "37a5b994",
   "metadata": {
    "deletable": false,
    "editable": false,
    "nbgrader": {
     "cell_type": "markdown",
     "checksum": "ea87f1a1f88a4d7b989f054a2f890b00",
     "grade": false,
     "grade_id": "cell-6d3f6c7e8490d3d3",
     "locked": true,
     "schema_version": 3,
     "solution": false,
     "task": false
    }
   },
   "source": [
    "#### A*"
   ]
  },
  {
   "cell_type": "markdown",
   "id": "2aadab3d",
   "metadata": {
    "deletable": false,
    "editable": false,
    "nbgrader": {
     "cell_type": "markdown",
     "checksum": "5696b33649410af81b27bf9080cef0b7",
     "grade": false,
     "grade_id": "cell-8c3d29353af4fd21",
     "locked": true,
     "schema_version": 3,
     "solution": false,
     "task": false
    }
   },
   "source": [
    "Appliquons maintenant l'heuristique à l'algorithme de Dijkstra. On obtient l'algorithme A* (A étoile ou A star)."
   ]
  },
  {
   "cell_type": "code",
   "execution_count": null,
   "id": "356252dd",
   "metadata": {
    "deletable": false,
    "editable": false,
    "nbgrader": {
     "cell_type": "code",
     "checksum": "f54bd7f55db6ddb5e4f17e631d361850",
     "grade": false,
     "grade_id": "cell-6c486efb707a61ed",
     "locked": true,
     "schema_version": 3,
     "solution": false,
     "task": false
    }
   },
   "outputs": [],
   "source": [
    "def Astar(G, depart, arrivee):\n",
    "    Scores = {sommet: float('inf') for sommet in G}\n",
    "    Preds = {sommet : None for sommet in G}\n",
    "    Scores[depart] = 0\n",
    "    Vus = []\n",
    "    tas = [(0, 0, depart)]\n",
    "    while tas :\n",
    "        _, score_actuel, sommet_actuel = heapq.heappop(tas) # on utilise par convention '_' pour déballer un élément d'un tuple dont on ne fera pas usage.\n",
    "        if sommet_actuel == arrivee :\n",
    "            return Preds,Scores,Vus\n",
    "        if score_actuel <= Scores[sommet_actuel]:          \n",
    "            score_voisin = G[sommet_actuel]\n",
    "            for voisin in score_voisin.keys():\n",
    "                if voisin not in Vus :\n",
    "                    Vus.append(voisin)\n",
    "                score = score_actuel + score_voisin[voisin]\n",
    "                if score < Scores[voisin]:\n",
    "                    Scores[voisin] = score\n",
    "                    Preds[voisin] = sommet_actuel\n",
    "                    heuristique = score + distance(voisin,arrivee)\n",
    "                    heapq.heappush(tas, (heuristique, score, voisin))"
   ]
  },
  {
   "cell_type": "code",
   "execution_count": null,
   "id": "3e8270c2",
   "metadata": {
    "deletable": false,
    "editable": false,
    "nbgrader": {
     "cell_type": "code",
     "checksum": "3f4d2846e9028b0e437df8c55085edaf",
     "grade": false,
     "grade_id": "cell-18cb3d1167a3eaa8",
     "locked": true,
     "schema_version": 3,
     "solution": false,
     "task": false
    }
   },
   "outputs": [],
   "source": [
    "chaine_Astar = reconstruction_chaine(Astar(carte,depart,arrivee)[0],depart,arrivee)"
   ]
  },
  {
   "cell_type": "code",
   "execution_count": null,
   "id": "229ba085",
   "metadata": {
    "deletable": false,
    "editable": false,
    "nbgrader": {
     "cell_type": "code",
     "checksum": "f6b76166ab6ab29c9e09eee92f0b1462",
     "grade": false,
     "grade_id": "cell-e5df5116d4e73d4d",
     "locked": true,
     "schema_version": 3,
     "solution": false,
     "task": false
    }
   },
   "outputs": [],
   "source": [
    "trace_terrain((20,20),depart,arrivee,limites_marecages,limites_murs)\n",
    "for sommet in chaine_Astar[1:-1] :\n",
    "    ax.add_patch(Rectangle(sommet,1,1,edgecolor=coul_bords,facecolor=coul_chemin,fill=True,lw=2))\n",
    "fig"
   ]
  },
  {
   "cell_type": "code",
   "execution_count": null,
   "id": "b927c100",
   "metadata": {
    "deletable": false,
    "editable": false,
    "nbgrader": {
     "cell_type": "code",
     "checksum": "ce1b24c9eea163bd5fa47f5f6f08c4a6",
     "grade": false,
     "grade_id": "cell-249f69b12ea29605",
     "locked": true,
     "schema_version": 3,
     "solution": false,
     "task": false
    }
   },
   "outputs": [],
   "source": [
    "trace_terrain((20,20),depart,arrivee,limites_marecages,limites_murs)\n",
    "for sommet in Astar(carte,depart,arrivee)[2] :\n",
    "    ax.add_patch(Rectangle(sommet,1,1,edgecolor=coul_bords,facecolor=(1,1,1,0.8),fill=True,lw=2))\n",
    "fig"
   ]
  },
  {
   "cell_type": "markdown",
   "id": "9d1f4221",
   "metadata": {
    "deletable": false,
    "editable": false,
    "nbgrader": {
     "cell_type": "markdown",
     "checksum": "a0146bf1f5ed5422df82899c9d41ccd2",
     "grade": false,
     "grade_id": "cell-edcd58f938c29d79",
     "locked": true,
     "schema_version": 3,
     "solution": false,
     "task": false
    }
   },
   "source": [
    "Répondez aux trois questions suivantes :\n",
    "- le chemin trouvé est-il le plus court possible indépendemment des pondérations ?\n",
    "- le chemin trouvé est-il le plus court possible si on prend en compte les pondérations ?\n",
    "- l'algorithme est-il efficace en terme de nombre de sommets inspectés ?"
   ]
  },
  {
   "cell_type": "code",
   "execution_count": null,
   "id": "fb60deaf",
   "metadata": {},
   "outputs": [],
   "source": [
    "# pour répondre, vous affecterez aux variables qu10, qu11 et qu12 les valeurs 'O' si la réponse est oui et 'N' si la réponse est non.\n",
    "qu10 = '?'\n",
    "qu11 = '?'\n",
    "qu12 = '?'"
   ]
  },
  {
   "cell_type": "code",
   "execution_count": null,
   "id": "0b5b7e20",
   "metadata": {
    "deletable": false,
    "editable": false,
    "nbgrader": {
     "cell_type": "code",
     "checksum": "ffba2d0aa2958d0bd5c82b9579394a01",
     "grade": true,
     "grade_id": "cell-1fe2baea599c38d4",
     "locked": true,
     "points": 1,
     "schema_version": 3,
     "solution": false,
     "task": false
    }
   },
   "outputs": [],
   "source": [
    "# cellule d'évaluation, ne pas modifier"
   ]
  }
 ],
 "metadata": {
  "kernelspec": {
   "display_name": "Python 3",
   "language": "python",
   "name": "python3"
  },
  "language_info": {
   "codemirror_mode": {
    "name": "ipython",
    "version": 3
   },
   "file_extension": ".py",
   "mimetype": "text/x-python",
   "name": "python",
   "nbconvert_exporter": "python",
   "pygments_lexer": "ipython3",
   "version": "3.8.12"
  }
 },
 "nbformat": 4,
 "nbformat_minor": 5
}
