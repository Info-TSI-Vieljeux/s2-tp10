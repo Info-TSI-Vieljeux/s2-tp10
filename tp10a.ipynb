{
 "cells": [
  {
   "cell_type": "markdown",
   "id": "42434b6a",
   "metadata": {},
   "source": [
    ">Ouvrir le notebook dans Colab en modifiant le début de son adresse dans le navigateur :<br>\n",
    "il faut remplacer **github.com** par **githubtocolab.com**.<br>\n",
    "Une fois vos réponses apportées, le notebook devra être sauvegardé dans GitHub, dans le repository du TP :<br>\n",
    "*Fichier > Enregistrer une copie dans Github*<br>\n",
    "*Info-TSI-Vieljeux/tpx-votre_nom*<br>\n",
    "\n",
    "---"
   ]
  },
  {
   "cell_type": "markdown",
   "id": "0018a59c",
   "metadata": {
    "deletable": false,
    "editable": false,
    "nbgrader": {
     "cell_type": "markdown",
     "checksum": "849b9c077804d3063b214aed681e5832",
     "grade": false,
     "grade_id": "cell-17696f5e45fff787",
     "locked": true,
     "schema_version": 3,
     "solution": false,
     "task": false
    }
   },
   "source": [
    "# TP 10 : les graphes (partie 1)"
   ]
  },
  {
   "cell_type": "markdown",
   "id": "c31b5606",
   "metadata": {
    "deletable": false,
    "editable": false,
    "nbgrader": {
     "cell_type": "markdown",
     "checksum": "01c98dcaa99dd9acd2ac80fec43fc669",
     "grade": false,
     "grade_id": "cell-fe20a3a62499ce91",
     "locked": true,
     "schema_version": 3,
     "solution": false,
     "task": false
    }
   },
   "source": [
    "![](http://cordier-phychi.toile-libre.org/Info/github/graphetp10.png)"
   ]
  },
  {
   "cell_type": "markdown",
   "id": "d57222d2",
   "metadata": {
    "deletable": false,
    "editable": false,
    "nbgrader": {
     "cell_type": "markdown",
     "checksum": "f74b96405163442fc53f10eb9b87c5d7",
     "grade": false,
     "grade_id": "cell-fc391d8103f309d5",
     "locked": true,
     "schema_version": 3,
     "solution": false,
     "task": false
    }
   },
   "source": [
    "Le dessin ci-dessus peut se représenter par :\n",
    "- a : un graphe orienté\n",
    "- b : un graphe non orienté"
   ]
  },
  {
   "cell_type": "code",
   "execution_count": null,
   "id": "152cee75",
   "metadata": {},
   "outputs": [],
   "source": [
    "# Affectez à rep1 la valeur 'a' ou 'b'\n",
    "rep1 = 'c'"
   ]
  },
  {
   "cell_type": "code",
   "execution_count": null,
   "id": "3a06faeb",
   "metadata": {
    "deletable": false,
    "editable": false,
    "nbgrader": {
     "cell_type": "code",
     "checksum": "377adc8acbc55229629d9a2299e00b6a",
     "grade": true,
     "grade_id": "cell-290fdc56fab23586",
     "locked": true,
     "points": 1,
     "schema_version": 3,
     "solution": false,
     "task": false
    }
   },
   "outputs": [],
   "source": [
    "# cellule d'évaluation, ne pas modifier"
   ]
  },
  {
   "cell_type": "markdown",
   "id": "59fb96ff",
   "metadata": {
    "deletable": false,
    "editable": false,
    "nbgrader": {
     "cell_type": "markdown",
     "checksum": "a269945e7c8bee51c36b9ddc25a75c0f",
     "grade": false,
     "grade_id": "cell-f83c75c320c8cc37",
     "locked": true,
     "schema_version": 3,
     "solution": false,
     "task": false
    }
   },
   "source": [
    "Le degré du sommet C vaut :\n",
    "- a : 2\n",
    "- b : 3\n",
    "- c : 5"
   ]
  },
  {
   "cell_type": "code",
   "execution_count": null,
   "id": "c23a5508",
   "metadata": {},
   "outputs": [],
   "source": [
    "# Affectez à rep2 la valeur 'a' ou 'b' ou 'c'\n",
    "rep2 = 'd'"
   ]
  },
  {
   "cell_type": "code",
   "execution_count": null,
   "id": "ddebd73b",
   "metadata": {
    "deletable": false,
    "editable": false,
    "nbgrader": {
     "cell_type": "code",
     "checksum": "67951b5203182d4b29b134cfa6fe9ec0",
     "grade": true,
     "grade_id": "cell-613b6f38d92fa690",
     "locked": true,
     "points": 1,
     "schema_version": 3,
     "solution": false,
     "task": false
    }
   },
   "outputs": [],
   "source": [
    "# cellule d'évaluation, ne pas modifier"
   ]
  },
  {
   "cell_type": "markdown",
   "id": "4d5c2cd2",
   "metadata": {
    "deletable": false,
    "editable": false,
    "nbgrader": {
     "cell_type": "markdown",
     "checksum": "15abd9ec033da896fabf97043c19cd7a",
     "grade": false,
     "grade_id": "cell-97d262933df675f9",
     "locked": true,
     "schema_version": 3,
     "solution": false,
     "task": false
    }
   },
   "source": [
    "Le distance de F à C vaut :\n",
    "- a : 1\n",
    "- b : 3\n",
    "- c : $\\infty$"
   ]
  },
  {
   "cell_type": "code",
   "execution_count": null,
   "id": "58dbfa0c",
   "metadata": {},
   "outputs": [],
   "source": [
    "# Affectez à rep3 la valeur 'a' ou 'b' ou 'c'\n",
    "rep3 = 'd'"
   ]
  },
  {
   "cell_type": "code",
   "execution_count": null,
   "id": "52ee5c30",
   "metadata": {
    "deletable": false,
    "editable": false,
    "nbgrader": {
     "cell_type": "code",
     "checksum": "f17419de925248d43971ce979cb8d204",
     "grade": true,
     "grade_id": "cell-0b6c66156d7fbedb",
     "locked": true,
     "points": 1,
     "schema_version": 3,
     "solution": false,
     "task": false
    }
   },
   "outputs": [],
   "source": [
    "# cellule d'évaluation, ne pas modifier"
   ]
  },
  {
   "cell_type": "markdown",
   "id": "2d84e024",
   "metadata": {
    "deletable": false,
    "editable": false,
    "nbgrader": {
     "cell_type": "markdown",
     "checksum": "251e788ba0147fc0abbc40d933b3641f",
     "grade": false,
     "grade_id": "cell-c23a02e78d0a06bf",
     "locked": true,
     "schema_version": 3,
     "solution": false,
     "task": false
    }
   },
   "source": [
    "En transformant les arcs en arêtes, quel serait le diamètre du graphe ?\n",
    "- a : 4\n",
    "- b : 5\n",
    "- c : $\\infty$"
   ]
  },
  {
   "cell_type": "code",
   "execution_count": null,
   "id": "063089fb",
   "metadata": {},
   "outputs": [],
   "source": [
    "# Affectez à rep4 la valeur 'a' ou 'b' ou 'c'\n",
    "rep4 = 'd'"
   ]
  },
  {
   "cell_type": "code",
   "execution_count": null,
   "id": "39104edc",
   "metadata": {
    "deletable": false,
    "editable": false,
    "nbgrader": {
     "cell_type": "code",
     "checksum": "c69ab663f7deae4e1dae077bee0615c0",
     "grade": true,
     "grade_id": "cell-e96dc91e670a5207",
     "locked": true,
     "points": 1,
     "schema_version": 3,
     "solution": false,
     "task": false
    }
   },
   "outputs": [],
   "source": [
    "# cellule d'évaluation, ne pas modifier"
   ]
  },
  {
   "cell_type": "markdown",
   "id": "89ce9121",
   "metadata": {
    "deletable": false,
    "editable": false,
    "nbgrader": {
     "cell_type": "markdown",
     "checksum": "bb815685725e6ea9279271ab8f97dd8d",
     "grade": false,
     "grade_id": "cell-443f389697f5f8a8",
     "locked": true,
     "schema_version": 3,
     "solution": false,
     "task": false
    }
   },
   "source": [
    "## Listes et matrices d'adjacence"
   ]
  },
  {
   "cell_type": "markdown",
   "id": "18c2ea44",
   "metadata": {
    "deletable": false,
    "editable": false,
    "nbgrader": {
     "cell_type": "markdown",
     "checksum": "12e54b349168614dcdb6c9d26cc0ff28",
     "grade": false,
     "grade_id": "cell-0a3e2f8aeb59f727",
     "locked": true,
     "schema_version": 3,
     "solution": false,
     "task": false
    }
   },
   "source": [
    "Construire le graphe `G_la` correspondant au dessin du haut sous la forme d'une **liste d'adjacence** en utilisant un **dictionnaire** (sur le modèle du cours).<br>\n",
    "Les sommets devront s'appeler `\"A\"`,`\"B\"`,`\"C\"`,`\"D\"`,`\"E\"` et `\"F\"`."
   ]
  },
  {
   "cell_type": "code",
   "execution_count": null,
   "id": "ba9b3c36",
   "metadata": {},
   "outputs": [],
   "source": [
    "G_la = {}"
   ]
  },
  {
   "cell_type": "code",
   "execution_count": null,
   "id": "f3debfbd",
   "metadata": {
    "deletable": false,
    "editable": false,
    "nbgrader": {
     "cell_type": "code",
     "checksum": "be91958c0f470575bb9dccf1b4bec3bd",
     "grade": true,
     "grade_id": "cell-6bcdbb6ab44f589d",
     "locked": true,
     "points": 1,
     "schema_version": 3,
     "solution": false,
     "task": false
    }
   },
   "outputs": [],
   "source": [
    "# cellule d'évaluation, ne pas modifier"
   ]
  },
  {
   "cell_type": "markdown",
   "id": "34db5535",
   "metadata": {
    "deletable": false,
    "editable": false,
    "nbgrader": {
     "cell_type": "markdown",
     "checksum": "430b187d4c4ee6db4961d8c0dc05c447",
     "grade": false,
     "grade_id": "cell-b54080b72d4a8737",
     "locked": true,
     "schema_version": 3,
     "solution": false,
     "task": false
    }
   },
   "source": [
    "Construire le graphe `G_ma` correspondant au dessin ci-dessus sous la forme d'une **matrice d'adjacence** (en suivant le modèle donné dans le cours et en ordonnant les sommets alphabétiquement)."
   ]
  },
  {
   "cell_type": "code",
   "execution_count": null,
   "id": "a71c6395",
   "metadata": {},
   "outputs": [],
   "source": [
    "G_ma = []"
   ]
  },
  {
   "cell_type": "code",
   "execution_count": null,
   "id": "9d1d0ce2",
   "metadata": {
    "deletable": false,
    "editable": false,
    "nbgrader": {
     "cell_type": "code",
     "checksum": "fe0c738109dad0031009a3d05a2e1f09",
     "grade": true,
     "grade_id": "cell-21ee1d9b9efed237",
     "locked": true,
     "points": 1,
     "schema_version": 3,
     "solution": false,
     "task": false
    }
   },
   "outputs": [],
   "source": [
    "# cellule d'évaluation, ne pas modifier"
   ]
  },
  {
   "cell_type": "markdown",
   "id": "04c447ce",
   "metadata": {
    "deletable": false,
    "editable": false,
    "nbgrader": {
     "cell_type": "markdown",
     "checksum": "d803b07279c570644df19e109a07346e",
     "grade": false,
     "grade_id": "cell-1d823b1b05275d1c",
     "locked": true,
     "schema_version": 3,
     "solution": false,
     "task": false
    }
   },
   "source": [
    "## Manipulation d'un graphe"
   ]
  },
  {
   "cell_type": "markdown",
   "id": "802ceea0",
   "metadata": {
    "deletable": false,
    "editable": false,
    "nbgrader": {
     "cell_type": "markdown",
     "checksum": "218fb06dba6627f9dafe0ad7791b4728",
     "grade": false,
     "grade_id": "cell-583dd4694df44d33",
     "locked": true,
     "schema_version": 3,
     "solution": false,
     "task": false
    }
   },
   "source": [
    "### Ajouter un sommet à un graphe"
   ]
  },
  {
   "cell_type": "markdown",
   "id": "a497a8d3",
   "metadata": {
    "deletable": false,
    "editable": false,
    "nbgrader": {
     "cell_type": "markdown",
     "checksum": "d7d5db960624609372941fe94458a223",
     "grade": false,
     "grade_id": "cell-485c577b9a5aeecb",
     "locked": true,
     "schema_version": 3,
     "solution": false,
     "task": false
    }
   },
   "source": [
    "Construire une fonction qui ajoute un sommet S à un graphe G orienté. Le graphe G est représenté par une liste d'adjacence. La fonction prend en argument le dictionnaire `G` et la liste des prédécesseurs et des successeurs du sommet S ($Pred(S)$ et $Succ(S)$)."
   ]
  },
  {
   "cell_type": "code",
   "execution_count": null,
   "id": "7cd5bfd7",
   "metadata": {
    "deletable": false,
    "nbgrader": {
     "cell_type": "code",
     "checksum": "7d83d824eb69076edb5db3041ec2df7b",
     "grade": false,
     "grade_id": "cell-8cf11873853ef120",
     "locked": false,
     "schema_version": 3,
     "solution": true,
     "task": false
    }
   },
   "outputs": [],
   "source": [
    "def ajouteSommet(G,S,pred,succ) :\n",
    "    \"\"\"\n",
    "    ajouteSommet(G:dict,S:str,pred:list,succ:list)->G:dict\n",
    "    préconditions : G est un graphe dont certains des sommets font partie de la liste pred et certains de la liste succ.\n",
    "    S est le nom d'un sommet n'appartenant pas à G.\n",
    "    G est modélisé par une liste d'adjacence utilisant un dictionnaire.\n",
    "    pred et succ sont les listes des prédécesseurs et des successeurs de S.\n",
    "    postcondition : la fonction retourne le graphe mis à jour (muté) avec le sommet S ajouté.\n",
    "    \"\"\"\n",
    "    # VOTRE CODE"
   ]
  },
  {
   "cell_type": "code",
   "execution_count": null,
   "id": "15a6ebeb",
   "metadata": {
    "deletable": false,
    "editable": false,
    "nbgrader": {
     "cell_type": "code",
     "checksum": "10f4e53e0b5bc16b0f042c0ff0b9aed5",
     "grade": true,
     "grade_id": "cell-8c614c6f69fb94f0",
     "locked": true,
     "points": 1,
     "schema_version": 3,
     "solution": false,
     "task": false
    }
   },
   "outputs": [],
   "source": [
    "# Cellule d'évaluation, ne pas modiifer"
   ]
  },
  {
   "cell_type": "markdown",
   "id": "54d6d5e0",
   "metadata": {
    "deletable": false,
    "editable": false,
    "nbgrader": {
     "cell_type": "markdown",
     "checksum": "e498d361b372b6ade20a89318ee598a7",
     "grade": false,
     "grade_id": "cell-46ebcf8ed167316d",
     "locked": true,
     "schema_version": 3,
     "solution": false,
     "task": false
    }
   },
   "source": [
    "![](http://cordier-phychi.toile-libre.org/Info/github/tp10gr1.png)"
   ]
  },
  {
   "cell_type": "markdown",
   "id": "d55b4a0b",
   "metadata": {
    "deletable": false,
    "editable": false,
    "nbgrader": {
     "cell_type": "markdown",
     "checksum": "f090c377686dcaf88ff2814be6b060bd",
     "grade": false,
     "grade_id": "cell-49b0b66af6fae28f",
     "locked": true,
     "schema_version": 3,
     "solution": false,
     "task": false
    }
   },
   "source": [
    "Le graphe de gauche est modélisé ci-dessous par une liste d'adjacence :"
   ]
  },
  {
   "cell_type": "code",
   "execution_count": null,
   "id": "544d32e0",
   "metadata": {
    "deletable": false,
    "editable": false,
    "nbgrader": {
     "cell_type": "code",
     "checksum": "9078b355d33f1ae12117b40662ba7dd0",
     "grade": false,
     "grade_id": "cell-b686408c35a89efe",
     "locked": true,
     "schema_version": 3,
     "solution": false,
     "task": false
    }
   },
   "outputs": [],
   "source": [
    "Graphe = {'A' : ['E','D'],\n",
    "          'B' : ['D'],\n",
    "          'C' : ['B'],\n",
    "          'D' : ['C','E'],\n",
    "          'E' : [],\n",
    "          'F' : ['B']}"
   ]
  },
  {
   "cell_type": "markdown",
   "id": "fd6ac0cf",
   "metadata": {
    "deletable": false,
    "editable": false,
    "nbgrader": {
     "cell_type": "markdown",
     "checksum": "7efe6e44516247414f516046a5d97501",
     "grade": false,
     "grade_id": "cell-c55c39f59852816a",
     "locked": true,
     "schema_version": 3,
     "solution": false,
     "task": false
    }
   },
   "source": [
    "On souhaite lui ajouter le sommet `'G'`.<br>\n",
    "Compléter au préalable les listes `Pred` et `Succ` contenant les prédécesseurs et les successeurs de `'G'`."
   ]
  },
  {
   "cell_type": "code",
   "execution_count": null,
   "id": "38bfbf90",
   "metadata": {},
   "outputs": [],
   "source": [
    "Pred = []\n",
    "Succ = []"
   ]
  },
  {
   "cell_type": "code",
   "execution_count": null,
   "id": "24c4aa45",
   "metadata": {
    "deletable": false,
    "editable": false,
    "nbgrader": {
     "cell_type": "code",
     "checksum": "ba01c443f28b07b8ae6e1be6e8a0dc9f",
     "grade": true,
     "grade_id": "cell-80478e7380a40662",
     "locked": true,
     "points": 1,
     "schema_version": 3,
     "solution": false,
     "task": false
    }
   },
   "outputs": [],
   "source": [
    "# Cellule d'évaluation, ne pas modiifer"
   ]
  },
  {
   "cell_type": "markdown",
   "id": "fbc8ba9e",
   "metadata": {
    "deletable": false,
    "editable": false,
    "nbgrader": {
     "cell_type": "markdown",
     "checksum": "1a6b9f92b59d9bc14cd3f8014d6e1a73",
     "grade": false,
     "grade_id": "cell-d711b96b376fe117",
     "locked": true,
     "schema_version": 3,
     "solution": false,
     "task": false
    }
   },
   "source": [
    "Testez votre fonction `ajouteSommet` dans la cellule suivante pour vérifier que le graphe est modifié comme souhaité."
   ]
  },
  {
   "cell_type": "code",
   "execution_count": null,
   "id": "91855d7d",
   "metadata": {},
   "outputs": [],
   "source": [
    "# pour tester ajouteSommet\n"
   ]
  },
  {
   "cell_type": "markdown",
   "id": "cb0aaac5",
   "metadata": {
    "deletable": false,
    "editable": false,
    "nbgrader": {
     "cell_type": "markdown",
     "checksum": "8c2873d4015ed017007f30e11a4c3c3d",
     "grade": false,
     "grade_id": "cell-81230ced8b71c2c3",
     "locked": true,
     "schema_version": 3,
     "solution": false,
     "task": false
    }
   },
   "source": [
    "### Retirer un sommet à un graphe"
   ]
  },
  {
   "cell_type": "markdown",
   "id": "b2d5a827",
   "metadata": {
    "deletable": false,
    "editable": false,
    "nbgrader": {
     "cell_type": "markdown",
     "checksum": "98f67bad7fa7039e8aefccb372e3525d",
     "grade": false,
     "grade_id": "cell-fdfc8cdf9f3f2385",
     "locked": true,
     "schema_version": 3,
     "solution": false,
     "task": false
    }
   },
   "source": [
    "On souhaite maintenant construire la fonction `retireSommet` permettant de retirer un sommet d'un graphe.<br>\n",
    "Elle prend en argument le graphe et un sommet du graphe.<br>\n",
    "Vous utiliserez un `assert` pour vous assurer que le sommet passé en argument appartient bien au graphe. "
   ]
  },
  {
   "cell_type": "code",
   "execution_count": null,
   "id": "13d11c37",
   "metadata": {
    "deletable": false,
    "nbgrader": {
     "cell_type": "code",
     "checksum": "f290ade67f6c5882b30c4f5e4beaec98",
     "grade": false,
     "grade_id": "cell-9251904728bf153c",
     "locked": false,
     "schema_version": 3,
     "solution": true,
     "task": false
    }
   },
   "outputs": [],
   "source": [
    "def retireSommet(G,S) :\n",
    "    \"\"\"\n",
    "    retireSommet(G:dict,S:str)->G:dict\n",
    "    préconditions : G est un graphe et S est un de ses sommets.\n",
    "    G est modélisé par une liste d'adjacence utilisant un dictionnaire\n",
    "    postcondition : la fonction retourne le graphe mis à jour (muté) avec le sommet S en moins\n",
    "    \"\"\"\n",
    "    # VOTRE CODE"
   ]
  },
  {
   "cell_type": "code",
   "execution_count": null,
   "id": "0d4f02ee",
   "metadata": {
    "deletable": false,
    "editable": false,
    "nbgrader": {
     "cell_type": "code",
     "checksum": "0953b6ccab847bd6d56e846c3a9fbddd",
     "grade": true,
     "grade_id": "cell-b889f8bca4ba526f",
     "locked": true,
     "points": 1,
     "schema_version": 3,
     "solution": false,
     "task": false
    }
   },
   "outputs": [],
   "source": [
    "# Cellule d'évaluation, ne pas modiifer"
   ]
  },
  {
   "cell_type": "markdown",
   "id": "ac7bc907",
   "metadata": {
    "deletable": false,
    "editable": false,
    "nbgrader": {
     "cell_type": "markdown",
     "checksum": "1b89df712080c673602f9c23a63dff54",
     "grade": false,
     "grade_id": "cell-22aa04e1a3138c07",
     "locked": true,
     "schema_version": 3,
     "solution": false,
     "task": false
    }
   },
   "source": [
    "Reprenons le graphe précédent avant l'ajout du sommet `'G'`."
   ]
  },
  {
   "cell_type": "code",
   "execution_count": null,
   "id": "c2ddf399",
   "metadata": {
    "deletable": false,
    "editable": false,
    "nbgrader": {
     "cell_type": "code",
     "checksum": "b0d4fc3a41495a97fc019c17f9502010",
     "grade": false,
     "grade_id": "cell-d46731142b7e342f",
     "locked": true,
     "schema_version": 3,
     "solution": false,
     "task": false
    }
   },
   "outputs": [],
   "source": [
    "Graphe = {'A' : ['E','D'],\n",
    "          'C' : ['B'],\n",
    "          'D' : ['C','E'],\n",
    "          'E' : [],\n",
    "          'F' : ['B']}"
   ]
  },
  {
   "cell_type": "markdown",
   "id": "a9212c78",
   "metadata": {
    "deletable": false,
    "editable": false,
    "nbgrader": {
     "cell_type": "markdown",
     "checksum": "5da701f4d48c722a40a459dd88de9c8d",
     "grade": false,
     "grade_id": "cell-61d5d91df8c774c4",
     "locked": true,
     "schema_version": 3,
     "solution": false,
     "task": false
    }
   },
   "source": [
    "Testez votre fonction `retireSommet` dans la cellule suivante pour vérifier que le graphe est modifié comme souhaité."
   ]
  },
  {
   "cell_type": "code",
   "execution_count": null,
   "id": "ef5c5a28",
   "metadata": {},
   "outputs": [],
   "source": [
    "# pour tester retireSommet"
   ]
  },
  {
   "cell_type": "markdown",
   "id": "f90a6681",
   "metadata": {
    "deletable": false,
    "editable": false,
    "nbgrader": {
     "cell_type": "markdown",
     "checksum": "e0fce4d0366d619ab50681967f53d183",
     "grade": false,
     "grade_id": "cell-3641b5fc33905857",
     "locked": true,
     "schema_version": 3,
     "solution": false,
     "task": false
    }
   },
   "source": [
    "## Utilisation d'un module pour visualiser"
   ]
  },
  {
   "cell_type": "code",
   "execution_count": null,
   "id": "c2c01bbd",
   "metadata": {
    "deletable": false,
    "editable": false,
    "nbgrader": {
     "cell_type": "code",
     "checksum": "322a48444ffe71e6a3b8c50f4fee9391",
     "grade": false,
     "grade_id": "cell-b3336531a71b3acf",
     "locked": true,
     "schema_version": 3,
     "solution": false,
     "task": false
    }
   },
   "outputs": [],
   "source": [
    "import networkx as nx\n",
    "from IPython.display import Image\n",
    "import pandas as pd\n",
    "import matplotlib.pyplot as plt"
   ]
  },
  {
   "cell_type": "markdown",
   "id": "960e83fa",
   "metadata": {
    "deletable": false,
    "editable": false,
    "nbgrader": {
     "cell_type": "markdown",
     "checksum": "d32c54ffdb2b1bacea44d5959cd21be0",
     "grade": false,
     "grade_id": "cell-bb4f80d5702d62df",
     "locked": true,
     "schema_version": 3,
     "solution": false,
     "task": false
    }
   },
   "source": [
    "Construisons la matrice d'adjacence d'un graphe non-orienté complet."
   ]
  },
  {
   "cell_type": "code",
   "execution_count": null,
   "id": "bd0b1652",
   "metadata": {},
   "outputs": [],
   "source": [
    "matrice = [[0, 3, 2, 2, 1, 6, 4, 2, 6, 5],\n",
    "           [3, 0, 6, 6, 4, 3, 6, 5, 4, 5],\n",
    "           [2, 6, 0, 6, 2, 3, 1, 1, 2, 6],\n",
    "           [2, 6, 6, 0, 4, 3, 2, 2, 4, 6],\n",
    "           [1, 4, 2, 4, 0, 3, 6, 1, 6, 2],\n",
    "           [6, 3, 3, 3, 3, 0, 6, 2, 6, 6],\n",
    "           [4, 6, 1, 2, 6, 6, 0, 4, 2, 5],\n",
    "           [2, 5, 1, 2, 1, 2, 4, 0, 4, 2],\n",
    "           [6, 4, 2, 4, 6, 6, 2, 4, 0, 2],\n",
    "           [5, 5, 6, 6, 2, 6, 5, 2, 2, 0]]"
   ]
  },
  {
   "cell_type": "markdown",
   "id": "bbdf6ec5",
   "metadata": {},
   "source": [
    "Construisez à votre tour une matrice $10\\times10$ `M` semblable à celle de la cellule précédente en tirant chaque élément au hasard parmi la liste `[1,2,3,4,5,6]` grâce à la fonction `choice` du module `random` (`choice(L)` retourne un des éléments de `L` choisi au hasard).<br>\n",
    "Cette matrice devra n'avoir **que des 0 dans sa diagonale** et être **symétrique**.<br>\n",
    "Attention: le nom de la matrice doit être `M`."
   ]
  },
  {
   "cell_type": "code",
   "execution_count": null,
   "id": "4e526b0d",
   "metadata": {
    "deletable": false,
    "nbgrader": {
     "cell_type": "code",
     "checksum": "32778d3e56fb0aa7011904d56b41ef90",
     "grade": false,
     "grade_id": "cell-90ca8d2bb2551bb9",
     "locked": false,
     "schema_version": 3,
     "solution": true,
     "task": false
    }
   },
   "outputs": [],
   "source": [
    "from random import choice\n",
    "\n",
    "n = 10 # nombre de sommets\n",
    "\n",
    "# VOTRE CODE"
   ]
  },
  {
   "cell_type": "code",
   "execution_count": null,
   "id": "b03c8a27",
   "metadata": {
    "deletable": false,
    "editable": false,
    "nbgrader": {
     "cell_type": "code",
     "checksum": "fde1b4059f9a8686fdf57c53cb565479",
     "grade": true,
     "grade_id": "cell-7b071cecc9c6c5ac",
     "locked": true,
     "points": 1,
     "schema_version": 3,
     "solution": false,
     "task": false
    }
   },
   "outputs": [],
   "source": [
    "# Cellule d'évaluation, ne pas modiifer"
   ]
  },
  {
   "cell_type": "markdown",
   "id": "21b50af9",
   "metadata": {
    "deletable": false,
    "editable": false,
    "nbgrader": {
     "cell_type": "markdown",
     "checksum": "891db202470e7dd620dfddaa4d7d8525",
     "grade": false,
     "grade_id": "cell-7197df84ff717527",
     "locked": true,
     "schema_version": 3,
     "solution": false,
     "task": false
    }
   },
   "source": [
    "Si vous n'avez pas réussi à construire `M`, décommentez l'instruction de la cellule ci-dessous permettant d'utiliser `matrice` telle que définie plus haut."
   ]
  },
  {
   "cell_type": "code",
   "execution_count": null,
   "id": "36cc3cfa",
   "metadata": {},
   "outputs": [],
   "source": [
    "# M = matrice"
   ]
  },
  {
   "cell_type": "code",
   "execution_count": null,
   "id": "4cc6ce01",
   "metadata": {},
   "outputs": [],
   "source": [
    "for row in M : \n",
    "    print(row)"
   ]
  },
  {
   "cell_type": "markdown",
   "id": "b2c0c78b",
   "metadata": {
    "deletable": false,
    "editable": false,
    "nbgrader": {
     "cell_type": "markdown",
     "checksum": "6e552eae3f7a3d0dc64a3881b9485d26",
     "grade": false,
     "grade_id": "cell-6b56693bf535e4dc",
     "locked": true,
     "schema_version": 3,
     "solution": false,
     "task": false
    }
   },
   "source": [
    "On transforme ensuite la matrice en dataframe pandas (pandas est un module de gestion de données très riche déjà utilisé dans le tp3 et un dataframe est un tableau à deux dimensions) qui sera reconnue par networkx et on lui ajoute des lettres en en-tête de ligne et de colonne pour nommer les sommets."
   ]
  },
  {
   "cell_type": "code",
   "execution_count": null,
   "id": "c336ff19",
   "metadata": {},
   "outputs": [],
   "source": [
    "abc = 'ABCDEFGHIJKLMNOPQRSTUVWXYZ'\n",
    "labels = list(abc[:n])\n",
    "M_df = pd.DataFrame(matrice, index=labels, columns=labels)\n",
    "print(M_df)"
   ]
  },
  {
   "cell_type": "code",
   "execution_count": null,
   "id": "c5b69212",
   "metadata": {},
   "outputs": [],
   "source": [
    "G_complet = nx.from_pandas_adjacency(M_df) # obtention du graphe networkx à partir de la dataframe\n",
    "\n",
    "weights = [G_complet[u][v]['weight'] for u,v in G_complet.edges()] # liste des poids\n",
    "\n",
    "# Tracé\n",
    "options = {\"font_size\": 20,\n",
    "           \"font_weight\":\"bold\",\n",
    "           \"node_size\": 1000,\n",
    "           \"node_color\": \"#34A5DA\",\n",
    "           \"edge_color\": weights,    # couleur en fonction des poids\n",
    "           \"width\": weights,         # épaisseur des arêtes en fonction des poids\n",
    "           \"edge_cmap\": plt.cm.Set3, # échelle de couleurs utilisée\n",
    "           \"with_labels\": True,\n",
    "           \"font_color\": \"white\",\n",
    "           \"linewidths\": 5,\n",
    "          }\n",
    "\n",
    "pos = nx.shell_layout(G_complet)\n",
    "fig = plt.figure(figsize=(12, 12))\n",
    "nx.draw(G_complet,pos=pos,**options) \n",
    "labels = nx.get_edge_attributes(G_complet,'weight')\n",
    "nx.draw_networkx_edge_labels(G_complet, pos=pos,edge_labels=labels)\n",
    "plt.show()"
   ]
  },
  {
   "cell_type": "markdown",
   "id": "6aaab127",
   "metadata": {},
   "source": [
    "Transformez la matrice `matrice` en une liste d'adjacence `G_la` utilisant des dictionnaires.<br>"
   ]
  },
  {
   "cell_type": "code",
   "execution_count": null,
   "id": "5065fa54",
   "metadata": {
    "deletable": false,
    "nbgrader": {
     "cell_type": "code",
     "checksum": "6b20216e5b92e60b96aeddcf626ddecf",
     "grade": false,
     "grade_id": "cell-57bcf289a1d827d3",
     "locked": false,
     "schema_version": 3,
     "solution": true,
     "task": false
    }
   },
   "outputs": [],
   "source": [
    "G_la = {}\n",
    "# VOTRE CODE"
   ]
  },
  {
   "cell_type": "markdown",
   "id": "b708b8cf",
   "metadata": {
    "deletable": false,
    "editable": false,
    "nbgrader": {
     "cell_type": "markdown",
     "checksum": "fc327ee75654544072aef4a5efa227aa",
     "grade": false,
     "grade_id": "cell-13fd008a7684c25a",
     "locked": true,
     "schema_version": 3,
     "solution": false,
     "task": false
    }
   },
   "source": [
    "Si votre code est bon, l'exécution de la cellule suivante devra ressembler à :\n",
    "```\n",
    "A {'B': 3, 'C': 2, 'D': 2, 'E': 1, 'F': 6, 'G': 4, 'H': 2, 'I': 6, 'J': 5}\n",
    "B {'A': 3, 'C': 6, 'D': 6, 'E': 4, 'F': 3, 'G': 6, 'H': 5, 'I': 4, 'J': 5}\n",
    "C {'A': 2, 'B': 6, 'D': 6, 'E': 2, 'F': 3, 'G': 1, 'H': 1, 'I': 2, 'J': 6}\n",
    "D {'A': 2, 'B': 6, 'C': 6, 'E': 4, 'F': 3, 'G': 2, 'H': 2, 'I': 4, 'J': 6}\n",
    "E {'A': 1, 'B': 4, 'C': 2, 'D': 4, 'F': 3, 'G': 6, 'H': 1, 'I': 6, 'J': 2}\n",
    "F {'A': 6, 'B': 3, 'C': 3, 'D': 3, 'E': 3, 'G': 6, 'H': 2, 'I': 6, 'J': 6}\n",
    "G {'A': 4, 'B': 6, 'C': 1, 'D': 2, 'E': 6, 'F': 6, 'H': 4, 'I': 2, 'J': 5}\n",
    "H {'A': 2, 'B': 5, 'C': 1, 'D': 2, 'E': 1, 'F': 2, 'G': 4, 'I': 4, 'J': 2}\n",
    "I {'A': 6, 'B': 4, 'C': 2, 'D': 4, 'E': 6, 'F': 6, 'G': 2, 'H': 4, 'J': 2}\n",
    "J {'A': 5, 'B': 5, 'C': 6, 'D': 6, 'E': 2, 'F': 6, 'G': 5, 'H': 2, 'I': 2}\n",
    "```\n",
    "Ces valeurs correspondent à la `matrice` de départ. Vos valeurs seront différentes si vous avez réussi à construire la matrice `M`."
   ]
  },
  {
   "cell_type": "code",
   "execution_count": null,
   "id": "316a0604",
   "metadata": {},
   "outputs": [],
   "source": [
    "for k,v in G_la.items() :\n",
    "    print(k,v)"
   ]
  },
  {
   "cell_type": "code",
   "execution_count": null,
   "id": "6e10d134",
   "metadata": {
    "deletable": false,
    "editable": false,
    "nbgrader": {
     "cell_type": "code",
     "checksum": "0c7bc57134d522173d91f019137d3d0b",
     "grade": true,
     "grade_id": "cell-6366dd3a93ff3666",
     "locked": true,
     "points": 1,
     "schema_version": 3,
     "solution": false,
     "task": false
    }
   },
   "outputs": [],
   "source": [
    "# Cellule d'évaluation, ne pas modiifer"
   ]
  },
  {
   "cell_type": "markdown",
   "id": "029fe453",
   "metadata": {
    "deletable": false,
    "editable": false,
    "nbgrader": {
     "cell_type": "markdown",
     "checksum": "cb67a90c392d98a171e556a260e676db",
     "grade": false,
     "grade_id": "cell-45db5f6e1d42126b",
     "locked": true,
     "schema_version": 3,
     "solution": false,
     "task": false
    }
   },
   "source": [
    "## Une application concrète des graphes : l'arbre couvrant minimal"
   ]
  },
  {
   "cell_type": "markdown",
   "id": "9a2b119e",
   "metadata": {
    "deletable": false,
    "editable": false,
    "nbgrader": {
     "cell_type": "markdown",
     "checksum": "ec98ed076d8f2b40b9c90c6dbfe4f1d5",
     "grade": false,
     "grade_id": "cell-2f448c78f36f0372",
     "locked": true,
     "schema_version": 3,
     "solution": false,
     "task": false
    }
   },
   "source": [
    "Supposons que chaque sommet du graphe précédent représente les nœuds d'un réseau que l'on souhait relier à moindre coût. Ces sommets peuvent être des villes que l'on veut relier électriquement, des champs à irriguer, des serveurs à relier, etc. Les différents poids des arêtes matérialisent la difficulté ou le coût de la liaison entre les deux sommets.<br>\n",
    "Comment trouver facilement le moyen de relier tout le monde en minimisant les coûts ? Il faut trouver un **arbre couvrant minimal** du graphe."
   ]
  },
  {
   "cell_type": "markdown",
   "id": "9c501db7",
   "metadata": {
    "deletable": false,
    "editable": false,
    "nbgrader": {
     "cell_type": "markdown",
     "checksum": "19d306c85a8afe565f8a24b7c6224ddf",
     "grade": false,
     "grade_id": "cell-72d2b240fda3eafe",
     "locked": true,
     "schema_version": 3,
     "solution": false,
     "task": false
    }
   },
   "source": [
    "Un **arbre couvrant** est un arbre (graphe sans cycle) qui rejoint tous les sommets d'un **graphe connexe**.<br>\n",
    "Un arbre couvrant **minimal** est un arbre couvrant dont la somme des poids des arêtes est minimale."
   ]
  },
  {
   "cell_type": "markdown",
   "id": "01969583",
   "metadata": {
    "deletable": false,
    "editable": false,
    "nbgrader": {
     "cell_type": "markdown",
     "checksum": "f3880c4b6e13b87926dfa299abcb151c",
     "grade": false,
     "grade_id": "cell-7c3d7b771c76cb82",
     "locked": true,
     "schema_version": 3,
     "solution": false,
     "task": false
    }
   },
   "source": [
    "Chercher une solution par force brute devient rapidement impossible quand le nombre de sommets du graphe augmente. La formule de Cayley nous dit qu'il y aura $n^{n-2}$ arbres couvrants d'un graphe complet connexe comportant $n$ sommets (avec seulement 100 sommets, cela fait plus de possibilités que le nombre d'atomes dans l'univers).\n",
    "\n",
    "Quelle serait donc le type de complexité d'une exploration par force brute de tous les arbres couvrants ?\n",
    "- a : logarithmique en $n$\n",
    "- b : polynomiale en $n$\n",
    "- c : exponentielle en $n$"
   ]
  },
  {
   "cell_type": "code",
   "execution_count": null,
   "id": "f7aa7773",
   "metadata": {},
   "outputs": [],
   "source": [
    "# Affectez à la variable typComp la lettre 'a', 'b' ou 'c' correspondant à votre réponse :\n",
    "typComp = 'd'"
   ]
  },
  {
   "cell_type": "code",
   "execution_count": null,
   "id": "2060cce7",
   "metadata": {
    "deletable": false,
    "editable": false,
    "nbgrader": {
     "cell_type": "code",
     "checksum": "ded85d3529139c2db8855330043a7bf0",
     "grade": true,
     "grade_id": "cell-96df37cea69c7fb1",
     "locked": true,
     "points": 1,
     "schema_version": 3,
     "solution": false,
     "task": false
    }
   },
   "outputs": [],
   "source": [
    "# Cellule d'évaluation, ne pas modiifer"
   ]
  },
  {
   "cell_type": "markdown",
   "id": "92672124",
   "metadata": {
    "deletable": false,
    "editable": false,
    "nbgrader": {
     "cell_type": "markdown",
     "checksum": "54e90909c529fbf612a72bce47430854",
     "grade": false,
     "grade_id": "cell-05f4c4620e3e35e7",
     "locked": true,
     "schema_version": 3,
     "solution": false,
     "task": false
    }
   },
   "source": [
    "Grâce à l'**algorithme de Prim**, on peut trouver un arbre couvrant minimal d'un graphe connexe pondéré en temps raisonable !<br>"
   ]
  },
  {
   "cell_type": "markdown",
   "id": "d9266db1",
   "metadata": {
    "deletable": false,
    "editable": false,
    "nbgrader": {
     "cell_type": "markdown",
     "checksum": "ca903843602c817a7913b4fc2a3f2d94",
     "grade": false,
     "grade_id": "cell-35f5e07393404fbb",
     "locked": true,
     "schema_version": 3,
     "solution": false,
     "task": false
    }
   },
   "source": [
    "Mais commençons d'abord par construire une fonction qui vérifie si un graphe est connexe ou non.<br>\n",
    "Pour cela, on va utiliser l'**algorithme de parcours en profondeur** (Deep-First Search) sur le graphe à tester en partant d'un sommet quelconque et vérifier que tous les sommets sont visités."
   ]
  },
  {
   "cell_type": "code",
   "execution_count": null,
   "id": "5f297aab",
   "metadata": {},
   "outputs": [],
   "source": [
    "from collections import deque\n",
    "\n",
    "def parcours_profondeur(G,depart):\n",
    "    pile = deque()\n",
    "    pile.append(depart)\n",
    "    Vus = []\n",
    "    while pile :\n",
    "        sommet = pile.pop()\n",
    "        if not sommet in Vus :\n",
    "            pile += G[sommet]\n",
    "            Vus.append(sommet)\n",
    "    return Vus"
   ]
  },
  {
   "cell_type": "markdown",
   "id": "46f45094",
   "metadata": {},
   "source": [
    "Construisez la fonction `verifConnexe` qui vérifie si un graphe est connexe ou non.<br>\n",
    "Vous utiliserez la fonction `parcours_profondeur` dans votre code.<br>\n",
    "Vous pourrez ensuite tester ci-dessous si votre fonction fait le travail sur les deux listes d'adjacence `G_la` et `Gt_la`.<br>\n",
    "Dans le premier cas, le graphe est évidemment connexe, et on a construit le deuxième pour qu'il ne le soit pas."
   ]
  },
  {
   "cell_type": "code",
   "execution_count": null,
   "id": "e8223564",
   "metadata": {
    "deletable": false,
    "nbgrader": {
     "cell_type": "code",
     "checksum": "cfdfbf5717d4f928fee7f13bbfc157cc",
     "grade": false,
     "grade_id": "cell-7c00e8e50e410d16",
     "locked": false,
     "schema_version": 3,
     "solution": true,
     "task": false
    }
   },
   "outputs": [],
   "source": [
    "def verifConnexe(G):\n",
    "    \"\"\"\n",
    "    verifConnexe(G : dict) -> bool\n",
    "    précondition : G est un graphe sous la forme d'une liste d'adjacence représentée par un dictionnaire comme ci-dessus\n",
    "    postcondition : la fonction retourne True si le graphe est connexe, False sinon\n",
    "    \"\"\"\n",
    "    # VOTRE CODE"
   ]
  },
  {
   "cell_type": "code",
   "execution_count": null,
   "id": "6115edc5",
   "metadata": {
    "deletable": false,
    "editable": false,
    "nbgrader": {
     "cell_type": "code",
     "checksum": "7a3d524ee68b678ec1d1f4a19506c0d2",
     "grade": false,
     "grade_id": "cell-0b5a8dd064447990",
     "locked": true,
     "schema_version": 3,
     "solution": false,
     "task": false
    }
   },
   "outputs": [],
   "source": [
    "# Construction d'un graphe G_nc non connexe\n",
    "G_nc = nx.Graph()\n",
    "G_nc.add_nodes_from([i for i in range(1,9)])\n",
    "color_map = ['red' if node <=4 else 'green' for node in G_nc]\n",
    "G_nc.add_edges_from([(1,2),(1,3),(2,4),(1,4),(5,7),(6,7),(5,8),(7,8)])\n",
    "posi = nx.kamada_kawai_layout(G_nc)\n",
    "options = {\"node_size\": 200,\n",
    "           \"node_color\": color_map,\n",
    "           \"edge_color\": color_map,\n",
    "           \"linewidths\": 1,\n",
    "           \"width\": 1,\n",
    "           \"with_labels\": True,\n",
    "           \"font_color\": \"white\"\n",
    "          }\n",
    "G_nc_la = nx.to_dict_of_dicts(G_nc)\n",
    "nx.draw(G_nc,posi,**options)"
   ]
  },
  {
   "cell_type": "code",
   "execution_count": null,
   "id": "5d9de83a",
   "metadata": {},
   "outputs": [],
   "source": [
    "print('G_la est connexe :',verifConnexe(G_la))\n",
    "print('G_nc_la est connexe :',verifConnexe(G_nc_la))"
   ]
  },
  {
   "cell_type": "code",
   "execution_count": null,
   "id": "c4c341f2",
   "metadata": {
    "deletable": false,
    "editable": false,
    "nbgrader": {
     "cell_type": "code",
     "checksum": "052c645cd7ee4eaf5da107e77f113a76",
     "grade": true,
     "grade_id": "cell-beb014004125a94b",
     "locked": true,
     "points": 1,
     "schema_version": 3,
     "solution": false,
     "task": false
    }
   },
   "outputs": [],
   "source": [
    "# Cellule d'évaluation, ne pas modiifer"
   ]
  },
  {
   "cell_type": "markdown",
   "id": "a3ef5dd1",
   "metadata": {
    "deletable": false,
    "editable": false,
    "nbgrader": {
     "cell_type": "markdown",
     "checksum": "e58e18bb7806732245db64516a255977",
     "grade": false,
     "grade_id": "cell-87c8b384b3900fac",
     "locked": true,
     "schema_version": 3,
     "solution": false,
     "task": false
    }
   },
   "source": [
    "Implémentons maintenant une version lente (quadratique) de l'algorithme de Prim.<br>\n",
    "Comme Dijkstra, Prim est un **algorithme glouton**. À chaque itération, il se jette sur l'arête de poids le plus faible permettant de traverser la frontière entre l'ensemble des sommets déjà inspectés et l'ensemble des autres. Une fois l'arête choisie, on ajoute le sommet non inspecté qu'elle relie à l'ensemble des sommets inspectés."
   ]
  },
  {
   "cell_type": "markdown",
   "id": "d81437a0",
   "metadata": {
    "deletable": false,
    "editable": false,
    "nbgrader": {
     "cell_type": "markdown",
     "checksum": "fe24053ae6685ed12189cff6946093f6",
     "grade": false,
     "grade_id": "cell-f9cd3e865ef56d0f",
     "locked": true,
     "schema_version": 3,
     "solution": false,
     "task": false
    }
   },
   "source": [
    "Intégrez à l'algorithme ci-dessous une assertion testant si le graphe donné en argumant est bien connexe et ajoutez une variable `cout` à l'algorithme qui enregistre le coût de l'arbre final retourné et qui devra elle aussi être retournée.<br>\n",
    "La sortie doit donc devenir : \n",
    "`return A, cout`"
   ]
  },
  {
   "cell_type": "code",
   "execution_count": null,
   "id": "ad90234d",
   "metadata": {},
   "outputs": [],
   "source": [
    "def Prim(G) :\n",
    "    \"\"\"\n",
    "    Prim(G : dict) -> A : liste de tuples , cout : nombre\n",
    "    G est donné sous la forme d'une liste d'adjacence implémenté par un dictionnaire\n",
    "    A est une liste d'arêtes représentées par un tuple (A,B) où A et B sont les deux sommets délimitant l'arête\n",
    "    cout est le coût de l'arbre A (somme des pondération des arêtes constituant A)\n",
    "    postcondition : A doit être un arbre couvrant minimal\n",
    "    \"\"\"\n",
    "    inf = float('inf')\n",
    "    NX = list(G.keys()) # un dictionnaire n'est pas ordonné donc pas indiçable d'où la transformation en liste\n",
    "    S0 = NX[0] \n",
    "    X = [S0]\n",
    "    NX.remove(S0)\n",
    "    A = []\n",
    "    while NX != [] :\n",
    "        # invariant : A est un arbre couvrant minimal de X\n",
    "        Min = inf\n",
    "        for S1 in X :\n",
    "            for S2 in NX :\n",
    "                if G[S1].get(S2,inf) < Min : # get(clé,v0) renvoie la valeur de la clé si la clé existe et renvoie la valeur v0 sinon (permet d'éviter les erreurs si clé non présente)\n",
    "                    Min = G[S1][S2] # là, on sait que S2 est bien un voisin de S1\n",
    "                    Fmin = S2\n",
    "                    Dmin = S1\n",
    "        X.append(Fmin)\n",
    "        NX.remove(Fmin)\n",
    "        A.append((Dmin,Fmin))\n",
    "    return A"
   ]
  },
  {
   "cell_type": "code",
   "execution_count": null,
   "id": "5ba6b877",
   "metadata": {},
   "outputs": [],
   "source": [
    "# Pour tester votre fonction\n",
    "Prim(G_la)"
   ]
  },
  {
   "cell_type": "code",
   "execution_count": null,
   "id": "e460ccf2",
   "metadata": {
    "deletable": false,
    "editable": false,
    "nbgrader": {
     "cell_type": "code",
     "checksum": "1ae90809a8efd41702b7af6bc0c8c7ca",
     "grade": true,
     "grade_id": "cell-666487f3992c2f58",
     "locked": true,
     "points": 1,
     "schema_version": 3,
     "solution": false,
     "task": false
    }
   },
   "outputs": [],
   "source": [
    "# Cellule d'évaluation, ne pas modiifer"
   ]
  },
  {
   "cell_type": "code",
   "execution_count": null,
   "id": "bea0a779",
   "metadata": {
    "deletable": false,
    "editable": false,
    "nbgrader": {
     "cell_type": "code",
     "checksum": "69e79fc6e748e95ae25e0f32ad87e435",
     "grade": true,
     "grade_id": "cell-5fb9e4f2dfa9cdee",
     "locked": true,
     "points": 1,
     "schema_version": 3,
     "solution": false,
     "task": false
    }
   },
   "outputs": [],
   "source": [
    "# Cellule d'évaluation, ne pas modiifer"
   ]
  },
  {
   "cell_type": "markdown",
   "id": "a2892151",
   "metadata": {
    "deletable": false,
    "editable": false,
    "nbgrader": {
     "cell_type": "markdown",
     "checksum": "e0a9c908f2e8b8c2991952136db03b78",
     "grade": false,
     "grade_id": "cell-e0ce871e1737b884",
     "locked": true,
     "schema_version": 3,
     "solution": false,
     "task": false
    }
   },
   "source": [
    "Traçons maintenant l'arbre couvrant minimal trouvé par Prim."
   ]
  },
  {
   "cell_type": "code",
   "execution_count": null,
   "id": "ae12238c",
   "metadata": {},
   "outputs": [],
   "source": [
    "A,cout = Prim(G_la)\n",
    "H = nx.Graph()\n",
    "for S in abc[:n] :\n",
    "    H.add_node(S)\n",
    "for S1,S2 in A :\n",
    "    H.add_edge(S1,S2,weight=10)\n",
    "F = nx.compose(G_complet,H)\n",
    "\n",
    "weights = [5 if F[u][v]['weight']==10 else 0 for u,v in F.edges()]\n",
    "\n",
    "options = {\"font_size\": 20,\n",
    "           \"font_weight\":\"bold\",\n",
    "           \"node_size\": 1000,\n",
    "           \"node_color\": \"#34A5DA\",\n",
    "           \"edge_color\": weights,\n",
    "           \"width\": weights,\n",
    "           \"edge_cmap\": plt.cm.bwr,\n",
    "           \"with_labels\": True,\n",
    "           \"font_color\": \"white\",\n",
    "           \"linewidths\": 1,\n",
    "          }\n",
    "\n",
    "fig = plt.figure(figsize=(12, 12))\n",
    "nx.draw(F,pos=pos,**options)\n",
    "plt.show()\n",
    "print(f\"Coût de l'arbre : {cout}\")"
   ]
  },
  {
   "cell_type": "markdown",
   "id": "0d4a12b6",
   "metadata": {
    "deletable": false,
    "editable": false,
    "nbgrader": {
     "cell_type": "markdown",
     "checksum": "67322cb731f87891f39fcedb5b1ef38d",
     "grade": false,
     "grade_id": "cell-d0f4aefe62bedb6f",
     "locked": true,
     "schema_version": 3,
     "solution": false,
     "task": false
    }
   },
   "source": [
    "Et voilà ! En deux coups de cuillère à pot, on a trouvé un arbre couvrant minimal sans s'infliger l'inspection systématique des $10^8$ arbres couvrants possibles..."
   ]
  }
 ],
 "metadata": {
  "kernelspec": {
   "display_name": "Python 3",
   "language": "python",
   "name": "python3"
  },
  "language_info": {
   "codemirror_mode": {
    "name": "ipython",
    "version": 3
   },
   "file_extension": ".py",
   "mimetype": "text/x-python",
   "name": "python",
   "nbconvert_exporter": "python",
   "pygments_lexer": "ipython3",
   "version": "3.8.12"
  }
 },
 "nbformat": 4,
 "nbformat_minor": 5
}
